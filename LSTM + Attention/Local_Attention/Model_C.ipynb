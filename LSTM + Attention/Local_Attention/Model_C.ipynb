{
  "cells": [
    {
      "cell_type": "code",
      "execution_count": 3,
      "metadata": {
        "colab": {
          "base_uri": "https://localhost:8080/",
          "height": 87,
          "referenced_widgets": [
            "6e9336dd91354ce3ad739b515be2144c",
            "7162af9de2d14778a9c7831363067382",
            "ca2ca20688fc47c0a6bc17f2fc7fa622",
            "807706ccf8dd413d81d0ccce20184153",
            "1eb341223bc64f70b2235ed6403fb66a",
            "1bcd52defce44994b1399308b78c799f",
            "cfe311f20440402189e5fc0e3816abef",
            "9a18ec37857b424abd5b619c78c1ea8d",
            "a99234ce17b24c7fb41d7398602ecc9a",
            "5fbfb32a1ecc40c19a4fa13ca63e1ff2",
            "85cf8cbf086f4786a6604d922be8fe79"
          ]
        },
        "id": "rRmlxK3M1wFZ",
        "outputId": "e42ef2f0-b178-489b-f211-a7ef2c0d2128"
      },
      "outputs": [],
      "source": [
        "# from datasets import load_dataset\n",
        "# dataset = load_dataset('wmt16', 'de-en')"
      ]
    },
    {
      "cell_type": "code",
      "execution_count": 4,
      "metadata": {},
      "outputs": [],
      "source": [
        "from datasets import load_from_disk\n",
        "dataset = load_from_disk('data')"
      ]
    },
    {
      "cell_type": "code",
      "execution_count": 5,
      "metadata": {
        "id": "nS688f1t2Uza"
      },
      "outputs": [],
      "source": [
        "import tensorflow as tf\n",
        "from tensorflow.keras.models import Model\n",
        "from tensorflow.keras.layers import Input, Embedding, LSTM, Dense, Dot, Concatenate\n",
        "from tensorflow.keras.preprocessing.text import Tokenizer\n",
        "from tensorflow.keras.preprocessing.sequence import pad_sequences"
      ]
    },
    {
      "cell_type": "code",
      "execution_count": 6,
      "metadata": {
        "id": "3VgkZzGGu2mk"
      },
      "outputs": [],
      "source": [
        "train_data = dataset['train'][:10000]\n",
        "val_data = dataset['validation']\n",
        "test_data = dataset['test']"
      ]
    },
    {
      "cell_type": "code",
      "execution_count": null,
      "metadata": {
        "colab": {
          "base_uri": "https://localhost:8080/",
          "height": 49,
          "referenced_widgets": [
            "b25b7eee3b304cd2acdc36790bd05eca",
            "afda3223c92c45d5be642f7a8f976cb7",
            "e5aa0a2798ea4657a5b76e388f80dad5",
            "974abbfc664b46dba9a6186b3ba158c7",
            "7dc7a6adbb5c46eb9aa7a4da46a71a61",
            "752f325683814e9cb85637bd9e07d78c",
            "2d102560a11346e5ae8ba94d0a89f173",
            "39e2598173e242ea830ab74b2e2215a0",
            "519c21791d0648bdb9f96cc8957df126",
            "5517a891051f4d1aaa214c5be874ea99",
            "50b33bacf2ea4ae383231ec6312b82dd"
          ]
        },
        "id": "a3iBMp292X4r",
        "outputId": "cbf6ddde-e3f9-4d75-d4fa-1c29cf4f6517"
      },
      "outputs": [],
      "source": [
        "from tqdm.auto import tqdm\n",
        "\n",
        "# Get the English sentences from the training split\n",
        "english_sentences = [train_data['translation'][i]['en'] for i in tqdm(range(len(train_data['translation'])))]"
      ]
    },
    {
      "cell_type": "code",
      "execution_count": null,
      "metadata": {
        "colab": {
          "base_uri": "https://localhost:8080/",
          "height": 49,
          "referenced_widgets": [
            "079041c2202d4467aad9ec3a5f5a39b8",
            "ee15f8861bfa495fb0f6e12706ec1ff8",
            "56af4103396b40d588b5a61e6cb329a0",
            "845cce1203cc4a858715d1b70837cd8f",
            "1cec6fb0c8344579ae120d455edd8758",
            "1bfe5bf71f6f4598aa7821e3441bf090",
            "1104fde8539d4fba96e98d5cb3744857",
            "7d6b473d77ee435f85656b7744aa113e",
            "4a60e6c91c6c4bbe96fbc330d3196375",
            "92f9029f16b141faa875bf9e8ae1d60e",
            "51c1d47e8a444e6d859a05075f3d8be6"
          ]
        },
        "id": "pOVvcsv32Zvv",
        "outputId": "da3b7599-4cd4-4d28-96f2-2ada8a27c0d9"
      },
      "outputs": [],
      "source": [
        "from tqdm.auto import tqdm\n",
        "\n",
        "# Get the German sentences from the training split\n",
        "german_sentences = [train_data['translation'][i]['de'] for i in tqdm(range(len(train_data['translation'])))]"
      ]
    },
    {
      "cell_type": "code",
      "execution_count": null,
      "metadata": {
        "colab": {
          "base_uri": "https://localhost:8080/",
          "height": 49,
          "referenced_widgets": [
            "0f65146a6f9c42fa909a1407f2c86c3f",
            "5b70f507099a428f8eea8186d7b1e67b",
            "8439c62515ab4e77a98f60984db5f88d",
            "e399559f3b584d69a3fba198af876a2d",
            "3965f700b2b0406587b8e3c4d786c136",
            "380c2b254d134e17b97de671864fb39c",
            "b301af835a08408a9e20e877b02f9add",
            "9909eb2d7ea543c68dd82c2295a66d57",
            "d47b39b1b7bb41bfa94b9d41c7351397",
            "8e6c65b2c5824c5c8104f443bedbdaeb",
            "9898b1f6482342e2b3f2542738e44411"
          ]
        },
        "id": "7am0brLQu5Ub",
        "outputId": "d140e267-9d4b-4a4f-e70f-ccc4383d5a35"
      },
      "outputs": [],
      "source": [
        "from tqdm.auto import tqdm\n",
        "\n",
        "# Get the German sentences from the training split\n",
        "german_sentences_valid = [dataset['validation'][i]['translation']['de'] for i in tqdm(range(len(dataset['validation'])))]"
      ]
    },
    {
      "cell_type": "code",
      "execution_count": null,
      "metadata": {
        "colab": {
          "base_uri": "https://localhost:8080/",
          "height": 49,
          "referenced_widgets": [
            "b69c721119114246b80f62854c0bad91",
            "a97c18dc72d044aaa0720ea5c6ba97b9",
            "5f440301c17c48a2934829e408f2f200",
            "3ca117a44e0941b1bd71d9bbff38cb63",
            "1d49898d01464d0e88fcc64f615b1769",
            "b43c3e6c51a542bfb0a36483475bde74",
            "7a13d6d0eb2047b89cc1b80cf704e4cc",
            "a1e7fb7f3a1141fc93bea3961e71f1f7",
            "3cc4b57207164bf389581401959fa3ca",
            "e059020ec41c4bedb61bb0b36be6e995",
            "a432a9d1311f4cc2825a8654b902928b"
          ]
        },
        "id": "F6SXPerJ2bk5",
        "outputId": "80e7a66c-7cc9-4487-e518-e649e41978f5"
      },
      "outputs": [],
      "source": [
        "from tqdm.auto import tqdm\n",
        "\n",
        "# Get the English sentences from the training split\n",
        "english_sentences_valid = [dataset['validation'][i]['translation']['en'] for i in tqdm(range(len(dataset['validation'])))]"
      ]
    },
    {
      "cell_type": "code",
      "execution_count": null,
      "metadata": {
        "colab": {
          "base_uri": "https://localhost:8080/",
          "height": 49,
          "referenced_widgets": [
            "cf16b7b81bb74e96b34110a728152e4d",
            "4ce7e8cb5f77487890d63985758b13e5",
            "956b5cff0b7142d9bc05e7c8244f1a44",
            "9024e5c6a92f43fb85baeec7ab56b66c",
            "4668892bcde84ea99339e40cb953ef9f",
            "b25002d3a1ff4a4fb86d508df6cd486f",
            "835598f26fb74b06816dadacb49325dc",
            "20473e77055949bd9b8d88f643ec001a",
            "9e5bd5b9479f420c88e96bf6e549b7d7",
            "06f710a98c5047639f6a2b2fb403f394",
            "32ba7e2fafc64bfa9591ee8d5fda6739"
          ]
        },
        "id": "AWKLnqInuwmG",
        "outputId": "0f4f8f0d-f7c4-4db3-83e3-694fd92f082c"
      },
      "outputs": [],
      "source": [
        "\n",
        "from tqdm.auto import tqdm\n",
        "\n",
        "# Get the English sentences from the training split\n",
        "english_sentences_test = [dataset['test'][i]['translation']['en'] for i in tqdm(range(len(dataset['test'])))]"
      ]
    },
    {
      "cell_type": "code",
      "execution_count": null,
      "metadata": {
        "colab": {
          "base_uri": "https://localhost:8080/",
          "height": 49,
          "referenced_widgets": [
            "bc86168ee4974927bd190672b0a3f6bc",
            "b0ee84019a9b4b219150abfaaf45b08e",
            "9c7124f930f440499cd7f7d81d121e7a",
            "ac4b80751c72498da325b2d43e53c4a7",
            "6bef8a9e99f84279b20a1a44006dd082",
            "890dd64152cb40f68dc0b20e8a402456",
            "b9eaea7f995c4900bb94455a1e0594df",
            "632626131eef477cbd2639f785420b0e",
            "c2b95abeeb4e4fbfb39452a8c2bd79fe",
            "6996adbc00384009bc87311bca19041d",
            "aac44fcfc90344a28c3ab7bb38041f23"
          ]
        },
        "id": "5Q7bjyVv2dwC",
        "outputId": "54c50bf6-acf6-4d27-f11c-f4438833f5ef"
      },
      "outputs": [],
      "source": [
        "from tqdm.auto import tqdm\n",
        "\n",
        "# Get the German sentences from the training split\n",
        "german_sentences_test = [dataset['test'][i]['translation']['de'] for i in tqdm(range(len(dataset['test'])))]"
      ]
    },
    {
      "cell_type": "code",
      "execution_count": 13,
      "metadata": {
        "id": "TJEG5DwL2fnq"
      },
      "outputs": [],
      "source": [
        "import string\n",
        "import re\n",
        "from numpy import array, argmax, random, take\n",
        "import pandas as pd\n",
        "from keras.models import Sequential\n",
        "from keras.layers import Dense, LSTM, Embedding, RepeatVector\n",
        "from keras.preprocessing.text import Tokenizer\n",
        "from keras.callbacks import ModelCheckpoint\n",
        "from tensorflow.keras.preprocessing.sequence import pad_sequences\n",
        "from keras.models import load_model\n",
        "from keras import optimizers\n",
        "import matplotlib.pyplot as plt\n",
        "%matplotlib inline\n",
        "pd.set_option('display.max_colwidth', 200)"
      ]
    },
    {
      "cell_type": "code",
      "execution_count": 14,
      "metadata": {
        "id": "YTVbmfDl2hRj"
      },
      "outputs": [],
      "source": [
        "def preprocess_text(text):\n",
        "    # Remove punctuation using the string library\n",
        "    text = text.translate(str.maketrans('', '', string.punctuation))\n",
        "    # Lowercase the text\n",
        "    text = text.lower()\n",
        "    return text\n",
        "\n",
        "\n",
        "eng_sentences = []\n",
        "ger_sentences = []\n",
        "eng_sentences_val = []\n",
        "ger_sentences_val = []\n",
        "eng_sentences_test = []\n",
        "ger_sentences_test = []\n",
        "\n",
        "\n",
        "for s1, s2 in zip(english_sentences, german_sentences):\n",
        "  eng_sentences.append(preprocess_text(s1))\n",
        "  ger_sentences.append(preprocess_text(s2))\n",
        "\n",
        "\n",
        "for p1, p2 in zip(english_sentences_valid, german_sentences_valid):\n",
        "  eng_sentences_val.append(preprocess_text(s1))\n",
        "  ger_sentences_val.append(preprocess_text(s2))\n",
        "\n",
        "\n",
        "for p1, p2 in zip(english_sentences_test, german_sentences_test):\n",
        "  eng_sentences_test.append(preprocess_text(s1))\n",
        "  ger_sentences_test.append(preprocess_text(s2))\n"
      ]
    },
    {
      "cell_type": "code",
      "execution_count": 15,
      "metadata": {
        "colab": {
          "base_uri": "https://localhost:8080/"
        },
        "id": "YAQ0TGM92jA8",
        "outputId": "cac3a458-7476-444e-c9a6-66254bb168df"
      },
      "outputs": [
        {
          "name": "stdout",
          "output_type": "stream",
          "text": [
            "English Vocabulary Size: 11119\n",
            "Deutch Vocabulary Size: 19507\n",
            "English Vocabulary Size (Validation): 26\n",
            "Deutch Vocabulary Size (Validation): 19\n",
            "<keras.preprocessing.text.Tokenizer object at 0x7f9d6fba9fd0>\n"
          ]
        }
      ],
      "source": [
        "#build tokenizer for both eng, deu sentences\n",
        "\n",
        "def tokenization(lines):\n",
        "    tokenizer = Tokenizer()\n",
        "    tokenizer.fit_on_texts(lines)\n",
        "    return tokenizer\n",
        "\n",
        "eng_tokenizer = tokenization(eng_sentences)\n",
        "eng_vocab_size = len(eng_tokenizer.word_index) + 1\n",
        "\n",
        "\n",
        "eng_tokenizer_val = tokenization(eng_sentences_val)\n",
        "eng_vocab_size_val = len(eng_tokenizer_val.word_index) + 1\n",
        "\n",
        "eng_tokenizer_test = tokenization(eng_sentences_test)\n",
        "eng_vocab_size_test = len(eng_tokenizer_test.word_index) + 1\n",
        "\n",
        "\n",
        "deu_tokenizer = tokenization(ger_sentences)\n",
        "deu_vocab_size = len(deu_tokenizer.word_index) + 1\n",
        "\n",
        "\n",
        "deu_tokenizer_val = tokenization(ger_sentences_val)\n",
        "deu_vocab_size_val = len(deu_tokenizer_val.word_index) + 1\n",
        "\n",
        "deu_tokenizer_test = tokenization(ger_sentences_test)\n",
        "deu_vocab_size_test = len(deu_tokenizer_val.word_index) + 1\n",
        "\n",
        "\n",
        "print('English Vocabulary Size: %d' % eng_vocab_size)\n",
        "print('Deutch Vocabulary Size: %d' % deu_vocab_size)\n",
        "print('English Vocabulary Size (Validation): %d' % eng_vocab_size_val)\n",
        "print('Deutch Vocabulary Size (Validation): %d' % deu_vocab_size_val)\n",
        "print(eng_tokenizer_val)"
      ]
    },
    {
      "cell_type": "code",
      "execution_count": 16,
      "metadata": {
        "id": "9hF3mPlb2oK_"
      },
      "outputs": [],
      "source": [
        "#encode and pad sequences\n",
        "\n",
        "def encode_sequences(tokenizer, length, lines):\n",
        "    #integer encode sequences\n",
        "    seq = tokenizer.texts_to_sequences(lines)\n",
        "    #pad sequences with 0 values\n",
        "    seq = pad_sequences(seq, maxlen = length, padding = 'post')\n",
        "    return seq"
      ]
    },
    {
      "cell_type": "code",
      "execution_count": 17,
      "metadata": {
        "id": "S0so2Ji52p63"
      },
      "outputs": [],
      "source": [
        "#prepare training data\n",
        "trainX = encode_sequences(eng_tokenizer, 32, eng_sentences)\n",
        "trainY = encode_sequences(deu_tokenizer, 32, ger_sentences)"
      ]
    },
    {
      "cell_type": "code",
      "execution_count": 18,
      "metadata": {
        "id": "Nemwx8qp2rry"
      },
      "outputs": [],
      "source": [
        "# prepare validation data\n",
        "testX = encode_sequences(eng_tokenizer_val, 32, eng_sentences_val)\n",
        "testY = encode_sequences(deu_tokenizer_val, 32, ger_sentences_val)"
      ]
    },
    {
      "cell_type": "code",
      "execution_count": 19,
      "metadata": {
        "id": "xq-GjEC-2oB-"
      },
      "outputs": [],
      "source": [
        "# prepare validation data\n",
        "testX_new = encode_sequences(eng_tokenizer_val, 32, eng_sentences_test)\n",
        "testY_new = encode_sequences(deu_tokenizer_val, 32, ger_sentences_test)"
      ]
    },
    {
      "cell_type": "code",
      "execution_count": 20,
      "metadata": {
        "colab": {
          "base_uri": "https://localhost:8080/"
        },
        "id": "XvUp5ZD-09fA",
        "outputId": "d4a51c0b-d914-460d-fcf0-4b6cbedfe081"
      },
      "outputs": [],
      "source": [
        "import nltk \n",
        "# nltk.download('punkt')"
      ]
    },
    {
      "cell_type": "code",
      "execution_count": 21,
      "metadata": {
        "id": "iihKNCUGkjjm"
      },
      "outputs": [],
      "source": [
        "#Reference : https://machinelearningmastery.com/develop-neural-machine-translation-system-keras/\n",
        "\n",
        "#In this pre-processing step , we are converting the words to lowercase, removing numbers and any punctuations , for the model to actually\n",
        "#concentrate only on developing meaningful sentences, but these might be very much needed if we are trying to build a really good model.\n",
        "\n",
        "import string\n",
        "import re\n",
        "from unicodedata import normalize\n",
        "from numpy import array\n",
        "\n",
        "# function to clean a list of sentences\n",
        "def clean_lines(sentences):\n",
        "\t#initialising a empty list\n",
        "\tcleaned = list()\n",
        "\t\n",
        "\t# prepare regex for char filtering\n",
        "\tre_print = re.compile('[^%s]' % re.escape(string.printable))\n",
        "\t\n",
        "\t# prepare translation table for removing punctuation\n",
        "\ttable = str.maketrans('', '', string.punctuation)\n",
        "\tfor sentence in sentences:\n",
        "    # normalize unicode characters\n",
        "\t\tsentence = normalize('NFD', sentence).encode('ascii', 'ignore')\n",
        "\t\tsentence = sentence.decode('UTF-8')\n",
        "\t\t# tokenize on white space\n",
        "\t\tsentence = sentence.split()\n",
        "\t\t# convert to lowercase\n",
        "\t\tsentence = [word.lower() for word in sentence]\n",
        "\t\t# remove punctuation from each token\n",
        "\t\tsentence = [word.translate(table) for word in sentence]\n",
        "\t\t# remove non-printable chars form each token\n",
        "\t\tsentence = [re_print.sub('', w) for w in sentence]\n",
        "\t\t# remove tokens with numbers in them\n",
        "\t\tsentence = [word for word in sentence if word.isalpha()]\n",
        "\t\tcleaned.append(' '.join(sentence))\n",
        "\treturn cleaned"
      ]
    },
    {
      "cell_type": "code",
      "execution_count": 22,
      "metadata": {
        "colab": {
          "base_uri": "https://localhost:8080/"
        },
        "id": "zQQrO5ei-0d_",
        "outputId": "db96dcff-fbce-474f-cae0-cf546c5dccbb"
      },
      "outputs": [
        {
          "name": "stdout",
          "output_type": "stream",
          "text": [
            "10000\n"
          ]
        },
        {
          "data": {
            "text/plain": [
              "['bof_ this policy would have important economic consequences for the fishing industry in brittany in that catches could be unloaded at irish advance bases in order to then be transported to the breton agrifoodstuffs industry _eos',\n",
              " 'bof_ the integration of the maritime border into strand a would finally allow the western periphery to be recognised as a unique and important economic area which is confronted by the continentalisation of the european union _eos',\n",
              " 'bof_ this would show respect for these peripheral areas which are rather concerned about enlargement to the east _eos',\n",
              " 'bof_ the maritime world has great potential _eos',\n",
              " 'bof_ we therefore must not leave it out of innovative and pilot community programmes which will allow the new geographical and economic map of europe to be defined _eos']"
            ]
          },
          "execution_count": 22,
          "metadata": {},
          "output_type": "execute_result"
        }
      ],
      "source": [
        "#cleaned english/source sentences\n",
        "eng_sentences = clean_lines(english_sentences)\n",
        "eng_sentences  = [ 'bof_ ' + line + ' _eos' for line in eng_sentences]\n",
        "print(len(eng_sentences))\n",
        "eng_sentences[-5:]"
      ]
    },
    {
      "cell_type": "code",
      "execution_count": 23,
      "metadata": {
        "colab": {
          "base_uri": "https://localhost:8080/"
        },
        "id": "Yb4RW4nY0s_6",
        "outputId": "cc5ee870-4aae-4a45-810e-38066cc65eef"
      },
      "outputs": [
        {
          "name": "stdout",
          "output_type": "stream",
          "text": [
            "2999\n"
          ]
        },
        {
          "data": {
            "text/plain": [
              "['bof_ mercury is released into the environment primarily through the burning of coal _eos',\n",
              " 'bof_ german coal plants according to written information from the german ministry of the environment to green bundestag member annalena baerbock discharge more than six tonnes of mercury per year two thirds of the total amount emitted in germany _eos',\n",
              " 'bof_ the concentration of mercury in fish for example in the elbe rhine and danube is extensively exceeded on a longterm basis the spiegel newspaper quoted from the paper in march _eos',\n",
              " 'bof_ in the past year europewide alerts on mercury in fish rated among the most frequently reported health risks in the eu warning system rasff _eos',\n",
              " 'bof_ foodwatch is calling for consumers to protest against the eu plans under wwwquecksilberaktionfoodwatchde _eos']"
            ]
          },
          "execution_count": 23,
          "metadata": {},
          "output_type": "execute_result"
        }
      ],
      "source": [
        "#cleaned english/source sentences\n",
        "eng_sentences_test = clean_lines(english_sentences_test)\n",
        "eng_sentences_test  = [ 'bof_ ' + line + ' _eos' for line in eng_sentences_test]\n",
        "print(len(eng_sentences_test))\n",
        "eng_sentences_test[-5:]"
      ]
    },
    {
      "cell_type": "code",
      "execution_count": 24,
      "metadata": {
        "colab": {
          "base_uri": "https://localhost:8080/"
        },
        "id": "e1_6HDGPyesm",
        "outputId": "dc0742b2-98d3-48f1-d67c-256a23f72d08"
      },
      "outputs": [
        {
          "name": "stdout",
          "output_type": "stream",
          "text": [
            "2169\n"
          ]
        },
        {
          "data": {
            "text/plain": [
              "['bof_ the walkers started at am _eos',\n",
              " 'bof_ then it was the turn of the cyclists and runners who began at am _eos',\n",
              " 'bof_ five minutes later the first mountainbikers set off _eos',\n",
              " 'bof_ bent hansen chairman of the association cycling on the grosser feldberg gave the starting orders and wished those taking part an enjoyable trip _eos',\n",
              " 'bof_ next year he hopes to have safety barriers on the course for the benefit of those taking part on the feldberg _eos']"
            ]
          },
          "execution_count": 24,
          "metadata": {},
          "output_type": "execute_result"
        }
      ],
      "source": [
        "eng_sentences_valid = clean_lines(english_sentences_valid)\n",
        "eng_sentences_valid  = [ 'bof_ ' + line + ' _eos' for line in eng_sentences_valid]\n",
        "print(len(eng_sentences_valid))\n",
        "eng_sentences_valid[-5:]"
      ]
    },
    {
      "cell_type": "code",
      "execution_count": 25,
      "metadata": {
        "colab": {
          "base_uri": "https://localhost:8080/"
        },
        "id": "u5ouCrnUe658",
        "outputId": "1b86a7bb-3735-41f6-ea1b-58e04b1a4433"
      },
      "outputs": [
        {
          "name": "stdout",
          "output_type": "stream",
          "text": [
            "10000\n"
          ]
        },
        {
          "data": {
            "text/plain": [
              "['bof_ diese politik hatte gunstige auswirkungen auf die bretonische fischerei da diese dann ihre fangmengen in vorgeschobenen irischen stutzpunkten anlanden und sie anschlieend in die bretonische ernahrungswirtschaft zuruckfuhren konnte _eos',\n",
              " 'bof_ die einbeziehung der seegrenze in die ausrichtung a wurde es endlich ermoglichen als gegengewicht zur zunehmenden festlandslastigkeit der europaischen union an deren westlichem rand eine einheitliche wirtschaftszone zu schaffen _eos',\n",
              " 'bof_ dies wurde auch eine aufwertung dieser regionen in randlage bedeuten die angesichts der erweiterung nach osten etwas beunruhigt sind _eos',\n",
              " 'bof_ die kustenregionen mit ihrer seewirtschaft weisen ein groes entwicklungspotential auf _eos',\n",
              " 'bof_ wir sollten sie daher bei innovativen und wegweisenden gemeinschaftsprogrammen die zur geographischen und wirtschaftlichen umgestaltung europas beitragen nicht ausschlieen _eos']"
            ]
          },
          "execution_count": 25,
          "metadata": {},
          "output_type": "execute_result"
        }
      ],
      "source": [
        "#cleaned german/target sentenc\n",
        "german_sentences = clean_lines(german_sentences)\n",
        "\n",
        "#adding 'bof_' and '_eos' tokens at the start and end of the sentences\n",
        "# I didn't use <bof> and <eos> tokens here as nltk tokenizer was splitting <bof> as <,bof,>\n",
        "german_sentences  = [ 'bof_ ' + line + ' _eos' for line in german_sentences]\n",
        "\n",
        "print(len(german_sentences))\n",
        "german_sentences[-5:]"
      ]
    },
    {
      "cell_type": "code",
      "execution_count": 26,
      "metadata": {
        "colab": {
          "base_uri": "https://localhost:8080/"
        },
        "id": "wTCoHA-TyuEf",
        "outputId": "93dee1db-e612-4f35-b9ba-db0e23f36779"
      },
      "outputs": [
        {
          "name": "stdout",
          "output_type": "stream",
          "text": [
            "2169\n"
          ]
        },
        {
          "data": {
            "text/plain": [
              "['bof_ die wanderer zuerst um uhr _eos',\n",
              " 'bof_ es folgten die ersten radfahrer und laufer um uhr _eos',\n",
              " 'bof_ funf minuten spater legten die ersten mountainbiker los _eos',\n",
              " 'bof_ bent hansen vorsitzender des vereins radeln auf den groen feldberg gab die startkommandos und wunschte den teilnehmern einen schonen ausflug _eos',\n",
              " 'bof_ fur nachstes jahr hoffe er dass es gelingt die strecke zum feldberg hinauf zur sicherheit der teilnehmer zu sperren _eos']"
            ]
          },
          "execution_count": 26,
          "metadata": {},
          "output_type": "execute_result"
        }
      ],
      "source": [
        "#cleaned german/target sentenc\n",
        "german_sentences_valid = clean_lines(german_sentences_valid)\n",
        "\n",
        "#adding 'bof_' and '_eos' tokens at the start and end of the sentences\n",
        "# I didn't use <bof> and <eos> tokens here as nltk tokenizer was splitting <bof> as <,bof,>\n",
        "german_sentences_valid  = [ 'bof_ ' + line + ' _eos' for line in german_sentences_valid]\n",
        "\n",
        "print(len(german_sentences_valid))\n",
        "german_sentences_valid[-5:]"
      ]
    },
    {
      "cell_type": "code",
      "execution_count": 27,
      "metadata": {
        "colab": {
          "base_uri": "https://localhost:8080/"
        },
        "id": "jSDoonXE07_D",
        "outputId": "4ff0f39f-a138-4932-aee7-b8bf4e346468"
      },
      "outputs": [
        {
          "name": "stdout",
          "output_type": "stream",
          "text": [
            "2999\n"
          ]
        },
        {
          "data": {
            "text/plain": [
              "['bof_ quecksilber gelangt vor allem durch die kohleverbrennung in die umwelt _eos',\n",
              " 'bof_ die deutschen kohlekraftwerke stoen laut einer schriftlichen auskunft des bundesumweltministeriums an die grunenbundestagsabgeordnete annalena baerbock mehr als sechs tonnen quecksilber im jahr aus zwei drittel der in deutschland emittierten gesamtmenge _eos',\n",
              " 'bof_ die konzentration von quecksilber in fischen etwa in elbe rhein und donau sei dauerhaft und flachendeckend uberschritten hatte der spiegel im marz aus dem papier zitiert _eos',\n",
              " 'bof_ im vergangenen jahr zahlten europaweite warnungen vor quecksilber in fisch bereits zu den haufigsten gemeldeten gesundheitsrisiken im euwarnsystem rasff _eos',\n",
              " 'bof_ foodwatch ruft verbraucher zum protest gegen die plane der eu auf unter wwwquecksilberaktionfoodwatchde _eos']"
            ]
          },
          "execution_count": 27,
          "metadata": {},
          "output_type": "execute_result"
        }
      ],
      "source": [
        "#cleaned german/target sentenc\n",
        "german_sentences_test = clean_lines(german_sentences_test)\n",
        "\n",
        "#adding 'bof_' and '_eos' tokens at the start and end of the sentences\n",
        "# I didn't use <bof> and <eos> tokens here as nltk tokenizer was splitting <bof> as <,bof,>\n",
        "german_sentences_test  = [ 'bof_ ' + line + ' _eos' for line in german_sentences_test]\n",
        "\n",
        "print(len(german_sentences_test))\n",
        "german_sentences_test[-5:]"
      ]
    },
    {
      "cell_type": "code",
      "execution_count": 28,
      "metadata": {
        "id": "fjU9TNMjgnXs"
      },
      "outputs": [],
      "source": [
        "#function to get all the english vocabulary in the corpus and the maximum length of sentence\n",
        "def get_vocabulary(sentences):\n",
        "  vocab=set()\n",
        "  max_length = 0\n",
        "  #Iterating through each sentence in the sentences list\n",
        "  for line in sentences:\n",
        "    #word tokenising the sentence\n",
        "    words = nltk.word_tokenize(line)\n",
        "    # updating max length is larger sentence is found\n",
        "    if len(words)> max_length:\n",
        "      max_length = len(words)\n",
        "    #for each word in the tokenized words, if it's not in the vocabulary, add it to the vocabulary\n",
        "    for word in words:\n",
        "      if word not in vocab:\n",
        "          vocab.add(word)\n",
        "  #returning a sorted list of vocabulary and maximum length\n",
        "  return sorted(list(vocab)),max_length"
      ]
    },
    {
      "cell_type": "code",
      "execution_count": 29,
      "metadata": {
        "colab": {
          "base_uri": "https://localhost:8080/"
        },
        "id": "YYCBQ70ziD74",
        "outputId": "f0d98062-f4ea-4845-e86b-7ac9b5868339"
      },
      "outputs": [
        {
          "name": "stdout",
          "output_type": "stream",
          "text": [
            "Vocabulary length:  10712\n"
          ]
        },
        {
          "data": {
            "text/plain": [
              "163"
            ]
          },
          "execution_count": 29,
          "metadata": {},
          "output_type": "execute_result"
        }
      ],
      "source": [
        "#English vocabulary(sorted list of all the words in the corpus), max sentence length for english\n",
        "eng_vocabulary,max_eng_sent_length = get_vocabulary(eng_sentences)\n",
        "print(\"Vocabulary length: \",len(eng_vocabulary))\n",
        "max_eng_sent_length"
      ]
    },
    {
      "cell_type": "code",
      "execution_count": 30,
      "metadata": {
        "colab": {
          "base_uri": "https://localhost:8080/"
        },
        "id": "sN52zGpkiEHT",
        "outputId": "c3480cec-6f38-48e9-fe63-9165414743c6"
      },
      "outputs": [
        {
          "name": "stdout",
          "output_type": "stream",
          "text": [
            "18987\n"
          ]
        },
        {
          "data": {
            "text/plain": [
              "154"
            ]
          },
          "execution_count": 30,
          "metadata": {},
          "output_type": "execute_result"
        }
      ],
      "source": [
        "#German vocabulary(sorted list of all the words in the corpus), max sentence length for german\n",
        "german_vocabulary,max_german_sent_length = get_vocabulary(german_sentences)\n",
        "print(len(german_vocabulary))\n",
        "max_german_sent_length"
      ]
    },
    {
      "cell_type": "code",
      "execution_count": 31,
      "metadata": {
        "id": "eShrCP_CobDj"
      },
      "outputs": [],
      "source": [
        "# Total number of unique source and target language tokens\n",
        "tot_eng_tokens = len(eng_vocabulary)\n",
        "tot_german_tokens = len(german_vocabulary)"
      ]
    },
    {
      "cell_type": "code",
      "execution_count": 32,
      "metadata": {
        "colab": {
          "base_uri": "https://localhost:8080/"
        },
        "id": "YDyyLbD4kie4",
        "outputId": "b4947ed8-198b-494e-9001-bb7f78fc37f2"
      },
      "outputs": [
        {
          "name": "stdout",
          "output_type": "stream",
          "text": [
            "Total number of examples:  10000\n",
            "Total number of unique source(English) language tokens:  10712\n",
            "Total number of unique target(German) language tokens:  18987\n",
            "Maximum sequence length of source(English) language:  163\n",
            "Maximum sequence length of target(German) language:  154\n"
          ]
        }
      ],
      "source": [
        "print('Total number of examples: ', len(eng_sentences))\n",
        "print('Total number of unique source(English) language tokens: ', tot_eng_tokens)\n",
        "print('Total number of unique target(German) language tokens: ', tot_german_tokens)\n",
        "print('Maximum sequence length of source(English) language: ', max_eng_sent_length)\n",
        "print('Maximum sequence length of target(German) language: ', max_german_sent_length)"
      ]
    },
    {
      "cell_type": "code",
      "execution_count": 33,
      "metadata": {
        "id": "Iwyn7Ccqf6J9"
      },
      "outputs": [],
      "source": [
        "import numpy as np"
      ]
    },
    {
      "cell_type": "code",
      "execution_count": 34,
      "metadata": {
        "id": "kEtXebs8StQN"
      },
      "outputs": [],
      "source": [
        "# assign an integer value to each unique token in the voacubulary\n",
        "input_token_index = dict([(word,i) for i, word in enumerate(eng_vocabulary)])\n",
        "target_token_index= dict([(word,i) for i, word in enumerate(german_vocabulary)])"
      ]
    },
    {
      "cell_type": "code",
      "execution_count": 35,
      "metadata": {
        "id": "GzR10m4-o1WI"
      },
      "outputs": [],
      "source": [
        "UNK_TOKEN = \"<unk>\""
      ]
    },
    {
      "cell_type": "code",
      "execution_count": 36,
      "metadata": {
        "id": "TUJWxha8oxfl"
      },
      "outputs": [],
      "source": [
        "# add the <unk> token to the dictionaries\n",
        "input_token_index[UNK_TOKEN] = 0\n",
        "target_token_index[UNK_TOKEN] = 0"
      ]
    },
    {
      "cell_type": "code",
      "execution_count": 37,
      "metadata": {
        "id": "WRptS_9RgX_V"
      },
      "outputs": [],
      "source": [
        "# !wget http://nlp.stanford.edu/data/glove.6B.zip"
      ]
    },
    {
      "cell_type": "code",
      "execution_count": 38,
      "metadata": {
        "colab": {
          "base_uri": "https://localhost:8080/"
        },
        "id": "6q7KPACAgc18",
        "outputId": "85047f10-d118-4225-d97f-235bcbd9c37c"
      },
      "outputs": [],
      "source": [
        "# !unnzip glove.6B.zip"
      ]
    },
    {
      "cell_type": "code",
      "execution_count": 39,
      "metadata": {
        "colab": {
          "base_uri": "https://localhost:8080/"
        },
        "id": "983N6b8BStSr",
        "outputId": "c3c786b3-efe1-483f-a10c-a7efe5d0bbfe"
      },
      "outputs": [
        {
          "name": "stdout",
          "output_type": "stream",
          "text": [
            "Found 400000 word vectors.\n"
          ]
        }
      ],
      "source": [
        "# Reference : https://blog.keras.io/using-pre-trained-word-embeddings-in-a-keras-model.html\n",
        "\n",
        "#The Glove file that contains pre-trained embeddings is loaded and then\n",
        "# by parsing the data dump of pre-trained embeddings, we create an index that maps words to known embeddings.\n",
        "embeddings_index = {}\n",
        "f = open('./glove.6B/glove.6B.50d.txt')\n",
        "for line in f:\n",
        "\tvalues = line.split()\n",
        "\tword = values[0]\n",
        "\tcoefs = np.asarray(values[1:], dtype='float32')\n",
        "\tembeddings_index[word] = coefs\n",
        "f.close()\n",
        "print('Found %s word vectors.' % len(embeddings_index))"
      ]
    },
    {
      "cell_type": "code",
      "execution_count": 40,
      "metadata": {
        "id": "AjUkSTYFStWn"
      },
      "outputs": [],
      "source": [
        "#construct the embedding matrix using the embedding index dictionary and the word index created previously\n",
        "max_words = tot_eng_tokens - 1\n",
        "embedding_matrix = np.zeros((tot_eng_tokens, 50))\n",
        "for i, word in enumerate(list(eng_vocabulary)):\n",
        "    if i > max_words:\n",
        "        continue\n",
        "    embedding_vector = embeddings_index.get(word) \n",
        "    if embedding_vector is not None:\n",
        "        # words not found in embedding index will be all-zeros.\n",
        "        embedding_matrix[i] = embedding_vector"
      ]
    },
    {
      "cell_type": "code",
      "execution_count": 41,
      "metadata": {
        "colab": {
          "base_uri": "https://localhost:8080/"
        },
        "id": "PoKtolqqNpjx",
        "outputId": "77d27b05-2ad2-4035-a6a1-5343c7218916"
      },
      "outputs": [
        {
          "name": "stdout",
          "output_type": "stream",
          "text": [
            "10712\n"
          ]
        }
      ],
      "source": [
        "print(len(embedding_matrix))"
      ]
    },
    {
      "cell_type": "code",
      "execution_count": 42,
      "metadata": {
        "colab": {
          "base_uri": "https://localhost:8080/"
        },
        "id": "jbczAuJI3MTr",
        "outputId": "e81ab609-342d-496a-c948-2305fab947cb"
      },
      "outputs": [
        {
          "name": "stdout",
          "output_type": "stream",
          "text": [
            "10000\n",
            "(10000, 32)\n"
          ]
        }
      ],
      "source": [
        "print(len(trainX))\n",
        "print(trainX.shape)"
      ]
    },
    {
      "cell_type": "code",
      "execution_count": 43,
      "metadata": {
        "id": "o0ghNCtFxrcw"
      },
      "outputs": [],
      "source": [
        "#  initializing placeholders for input and output data\n",
        "enc_input_data=np.zeros((len(trainX),max_eng_sent_length),dtype='float32')\n",
        "dec_input_data=np.zeros((len(trainY), max_german_sent_length),dtype='float32')\n",
        "dec_target_data=np.zeros((len(trainY), max_german_sent_length, tot_german_tokens),dtype='float32')"
      ]
    },
    {
      "cell_type": "code",
      "execution_count": 44,
      "metadata": {
        "id": "QVOybUV94qPL"
      },
      "outputs": [],
      "source": [
        "#  initializing placeholders for input and output data\n",
        "enc_input_data_test=np.zeros((len(testX),max_eng_sent_length),dtype='float32')\n",
        "dec_input_data_test=np.zeros((len(testY), max_german_sent_length),dtype='float32')\n",
        "dec_target_data_test=np.zeros((len(testY), max_german_sent_length, tot_german_tokens),dtype='float32')"
      ]
    },
    {
      "cell_type": "code",
      "execution_count": 45,
      "metadata": {
        "id": "BHpppPnM1U6h"
      },
      "outputs": [],
      "source": [
        "#  initializing placeholders for input and output data\n",
        "enc_input_data_test_new=np.zeros((len(testX_new),max_eng_sent_length),dtype='float32')\n",
        "dec_input_data_test_new=np.zeros((len(testY_new), max_german_sent_length),dtype='float32')\n",
        "dec_target_data_test_new=np.zeros((len(testY_new), max_german_sent_length, tot_german_tokens),dtype='float32')"
      ]
    },
    {
      "cell_type": "code",
      "execution_count": 46,
      "metadata": {
        "colab": {
          "base_uri": "https://localhost:8080/"
        },
        "id": "O5LGHVjrCkVB",
        "outputId": "c6bf6d63-b35c-48ef-c1ba-144a0b3b7e4e"
      },
      "outputs": [
        {
          "name": "stdout",
          "output_type": "stream",
          "text": [
            "[[0. 0. 0. ... 0. 0. 0.]\n",
            " [0. 0. 0. ... 0. 0. 0.]\n",
            " [0. 0. 0. ... 0. 0. 0.]\n",
            " ...\n",
            " [0. 0. 0. ... 0. 0. 0.]\n",
            " [0. 0. 0. ... 0. 0. 0.]\n",
            " [0. 0. 0. ... 0. 0. 0.]]\n"
          ]
        }
      ],
      "source": [
        "print(enc_input_data)"
      ]
    },
    {
      "cell_type": "code",
      "execution_count": 47,
      "metadata": {
        "colab": {
          "base_uri": "https://localhost:8080/"
        },
        "id": "_7NDY6RNmKEg",
        "outputId": "00c9dde4-79ef-4fc1-8b95-0d284b426188"
      },
      "outputs": [
        {
          "name": "stdout",
          "output_type": "stream",
          "text": [
            "[[0. 0. 0. ... 0. 0. 0.]\n",
            " [0. 0. 0. ... 0. 0. 0.]\n",
            " [0. 0. 0. ... 0. 0. 0.]\n",
            " ...\n",
            " [0. 0. 0. ... 0. 0. 0.]\n",
            " [0. 0. 0. ... 0. 0. 0.]\n",
            " [0. 0. 0. ... 0. 0. 0.]]\n"
          ]
        }
      ],
      "source": [
        "print(enc_input_data_test)"
      ]
    },
    {
      "cell_type": "code",
      "execution_count": 48,
      "metadata": {
        "id": "_vsh8Fd8xrfQ"
      },
      "outputs": [],
      "source": [
        "# generating the data for the above created placeholders \n",
        "for i, (input_txt, target_txt) in enumerate(zip(eng_sentences,german_sentences)):\n",
        "    for t, word in enumerate(nltk.word_tokenize(input_txt)):\n",
        "        enc_input_data[i, t] = input_token_index[word]\n",
        "    for t, word in enumerate(nltk.word_tokenize(target_txt)):\n",
        "        # decoder_target_data is ahead of decoder_input_data by one timestep\n",
        "        dec_input_data[i, t] = target_token_index[word]\n",
        "        if t > 0:\n",
        "            #Due to the addition of ‘<bof>' to the german sentences at the start, the target data will be shifted by one.\n",
        "            dec_target_data[i, t - 1, target_token_index[word]] = 1."
      ]
    },
    {
      "cell_type": "code",
      "execution_count": 49,
      "metadata": {
        "id": "z0A5rBlCn4X1"
      },
      "outputs": [],
      "source": [
        "UNK_TOKEN = \"<unk>\"\n",
        "\n",
        "for i, (input_txt, target_txt) in enumerate(zip(eng_sentences_valid, german_sentences_valid)):\n",
        "    for t, word in enumerate(nltk.word_tokenize(input_txt)):\n",
        "        enc_input_data_test[i, t] = input_token_index.get(word, input_token_index[UNK_TOKEN])\n",
        "    for t, word in enumerate(nltk.word_tokenize(target_txt)):\n",
        "        if t > 0:\n",
        "            dec_input_data_test[i, t - 1] = target_token_index.get(word, target_token_index[UNK_TOKEN])\n",
        "            if word in target_token_index:\n",
        "                dec_target_data_test[i, t - 1, target_token_index[word]] = 1."
      ]
    },
    {
      "cell_type": "code",
      "execution_count": 50,
      "metadata": {},
      "outputs": [],
      "source": [
        "from keras.layers import Input, LSTM, Embedding, Dense\n",
        "from keras.models import Model\n",
        "import tensorflow as tf"
      ]
    },
    {
      "cell_type": "code",
      "execution_count": 51,
      "metadata": {},
      "outputs": [],
      "source": [
        "import os\n",
        "import tensorflow as tf\n",
        "os.environ[\"CUDA_VISIBLE_DEVICES\"]=\"-1\" "
      ]
    },
    {
      "cell_type": "code",
      "execution_count": 52,
      "metadata": {},
      "outputs": [
        {
          "data": {
            "text/plain": [
              "[]"
            ]
          },
          "execution_count": 52,
          "metadata": {},
          "output_type": "execute_result"
        }
      ],
      "source": [
        "import tensorflow as tf\n",
        "tf.config.list_physical_devices('GPU')"
      ]
    },
    {
      "cell_type": "code",
      "execution_count": 53,
      "metadata": {
        "id": "trtkO6RK3bpm"
      },
      "outputs": [],
      "source": [
        "# reverse-lookup token index to turn sequences back to words\n",
        "reverse_target_char_index = dict((i, char) for char, i in target_token_index.items())"
      ]
    },
    {
      "cell_type": "code",
      "execution_count": 54,
      "metadata": {
        "id": "p2iT_GYb3bse"
      },
      "outputs": [],
      "source": [
        "#function to translate input sequence to target language using attention\n",
        "def translation_attention(input_seq):\n",
        "    translated_sentence = ''\n",
        "    enc_input = input_seq.reshape(1,max_eng_sent_length)\n",
        "    #initialising numpy matrix of required dimensions\n",
        "    dec_input = np.zeros(shape=(len(enc_input), max_german_sent_length))\n",
        "    #bof_ is the first entry of the decoder input\n",
        "    dec_input[:,0] = target_token_index['bof_']\n",
        "    for i in range(1, max_german_sent_length):\n",
        "        output = model_local.predict([enc_input, dec_input]).argmax(axis=2)\n",
        "        dec_input[:,i] = output[:,i]\n",
        "    for k in dec_input[0]:\n",
        "        #condition to break out of the loop(i.e if we see the end(_eos) token)    \n",
        "        if (reverse_target_char_index[k] == '_eos'):\n",
        "            translated_sentence += ' '+reverse_target_char_index[k]\n",
        "            break\n",
        "        translated_sentence += ' '+reverse_target_char_index[k]\n",
        "    return translated_sentence"
      ]
    },
    {
      "cell_type": "code",
      "execution_count": 55,
      "metadata": {},
      "outputs": [],
      "source": [
        "\n",
        "\"\"\" ROUGE metric from Google Research github repo. \"\"\"\n",
        "\n",
        "# The dependencies in https://github.com/google-research/google-research/blob/master/rouge/requirements.txt/\n",
        "import absl  \n",
        "import nltk  \n",
        "import numpy\n",
        "import six  \n",
        "from rouge_score import rouge_scorer, scoring\n",
        "\n",
        "import datasets\n",
        "\n",
        "\n",
        "\n",
        "@datasets.utils.file_utils.add_start_docstrings(_DESCRIPTION, _KWARGS_DESCRIPTION)\n",
        "class Rouge(datasets.Metric):\n",
        "    def _info(self):\n",
        "        return datasets.MetricInfo(\n",
        "            description=_DESCRIPTION,\n",
        "            citation=_CITATION,\n",
        "            inputs_description=_KWARGS_DESCRIPTION,\n",
        "            features=datasets.Features(\n",
        "                {\n",
        "                    \"predictions\": datasets.Value(\"string\", id=\"sequence\"),\n",
        "                    \"references\": datasets.Value(\"string\", id=\"sequence\"),\n",
        "                }\n",
        "            ),\n",
        "            codebase_urls=[\"https://github.com/google-research/google-research/tree/master/rouge\"],\n",
        "            reference_urls=[\n",
        "                \"https://en.wikipedia.org/wiki/ROUGE_(metric)\",\n",
        "                \"https://github.com/google-research/google-research/tree/master/rouge\",\n",
        "            ],\n",
        "        )\n",
        "\n",
        "    def _compute(self, predictions, references, rouge_types=None, use_agregator=True, use_stemmer=False):\n",
        "        if rouge_types is None:\n",
        "            rouge_types = [\"rouge1\", \"rouge2\", \"rougeL\", \"rougeLsum\"]\n",
        "\n",
        "        scorer = rouge_scorer.RougeScorer(rouge_types=rouge_types, use_stemmer=use_stemmer)\n",
        "        if use_agregator:\n",
        "            aggregator = scoring.BootstrapAggregator()\n",
        "        else:\n",
        "            scores = []\n",
        "\n",
        "        for ref, pred in zip(references, predictions):\n",
        "            score = scorer.score(ref, pred)\n",
        "            if use_agregator:\n",
        "                aggregator.add_scores(score)\n",
        "            else:\n",
        "                scores.append(score)\n",
        "\n",
        "        if use_agregator:\n",
        "            result = aggregator.aggregate()\n",
        "        else:\n",
        "            result = {}\n",
        "            for key in scores[0]:\n",
        "                result[key] = list(score[key] for score in scores)\n",
        "\n",
        "        return result"
      ]
    },
    {
      "cell_type": "code",
      "execution_count": 56,
      "metadata": {},
      "outputs": [],
      "source": [
        "import datasets\n",
        "import collections\n",
        "import math\n",
        "\n",
        "def _get_ngrams(segment, max_order):\n",
        "        \n",
        "        ngram_counts = collections.Counter()\n",
        "        for order in range(1, max_order + 1):\n",
        "            for i in range(0, len(segment) - order + 1):\n",
        "                ngram = tuple(segment[i:i+order])\n",
        "                ngram_counts[ngram] += 1\n",
        "        return ngram_counts\n",
        "\n",
        "def compute_bleu(reference_corpus, translation_corpus, max_order=4,\n",
        "                smooth=False):\n",
        "    matches_by_order = [0] * max_order\n",
        "    possible_matches_by_order = [0] * max_order\n",
        "    reference_length = 0\n",
        "    translation_length = 0\n",
        "    for (references, translation) in zip(reference_corpus,\n",
        "                                        translation_corpus):\n",
        "        reference_length += min(len(r) for r in references)\n",
        "        translation_length += len(translation)\n",
        "\n",
        "        merged_ref_ngram_counts = collections.Counter()\n",
        "        for reference in references:\n",
        "            merged_ref_ngram_counts |= _get_ngrams(reference, max_order)\n",
        "        translation_ngram_counts = _get_ngrams(translation, max_order)\n",
        "        overlap = translation_ngram_counts & merged_ref_ngram_counts\n",
        "        for ngram in overlap:\n",
        "            matches_by_order[len(ngram)-1] += overlap[ngram]\n",
        "        for order in range(1, max_order+1):\n",
        "            possible_matches = len(translation) - order + 1\n",
        "            if possible_matches > 0:\n",
        "                possible_matches_by_order[order-1] += possible_matches\n",
        "\n",
        "    precisions = [0] * max_order\n",
        "    for i in range(0, max_order):\n",
        "        if smooth:\n",
        "            precisions[i] = ((matches_by_order[i] + 1.) /\n",
        "                            (possible_matches_by_order[i] + 1.))\n",
        "        else:\n",
        "            if possible_matches_by_order[i] > 0:\n",
        "                precisions[i] = (float(matches_by_order[i]) /\n",
        "                                possible_matches_by_order[i])\n",
        "            else:\n",
        "                precisions[i] = 0.0\n",
        "\n",
        "    if min(precisions) > 0:\n",
        "        p_log_sum = sum((1. / max_order) * math.log(p) for p in precisions)\n",
        "        geo_mean = math.exp(p_log_sum)\n",
        "    else:\n",
        "        geo_mean = 0\n",
        "\n",
        "    ratio = float(translation_length) / reference_length\n",
        "\n",
        "    if ratio > 1.0:\n",
        "        bp = 1.\n",
        "    else:\n",
        "        bp = math.exp(1 - 1. / ratio)\n",
        "\n",
        "    bleu = geo_mean * bp\n",
        "\n",
        "    return (bleu, precisions, bp, ratio, translation_length, reference_length)\n",
        "\n",
        "@datasets.utils.file_utils.add_start_docstrings(_DESCRIPTION, _KWARGS_DESCRIPTION)\n",
        "class Bleu(datasets.Metric):\n",
        "    def _info(self):\n",
        "        return datasets.MetricInfo(\n",
        "            description=_DESCRIPTION,\n",
        "            citation=_CITATION,\n",
        "            inputs_description=_KWARGS_DESCRIPTION,\n",
        "            features=datasets.Features(\n",
        "                {\n",
        "                    \"predictions\": datasets.Sequence(datasets.Value(\"string\", id=\"token\"), id=\"sequence\"),\n",
        "                    \"references\": datasets.Sequence(\n",
        "                        datasets.Sequence(datasets.Value(\"string\", id=\"token\"), id=\"sequence\"), id=\"references\"\n",
        "                    ),\n",
        "                }\n",
        "            ),\n",
        "            codebase_urls=[\"https://github.com/tensorflow/nmt/blob/master/nmt/scripts/bleu.py\"],\n",
        "            reference_urls=[\n",
        "                \"https://en.wikipedia.org/wiki/BLEU\",\n",
        "                \"https://towardsdatascience.com/evaluating-text-output-in-nlp-bleu-at-your-own-risk-e8609665a213\",\n",
        "            ],\n",
        "        )\n",
        "    \n",
        "    def _compute(self, predictions, references, max_order=4, smooth=False):\n",
        "        score = compute_bleu(\n",
        "            reference_corpus=references, translation_corpus=predictions, max_order=max_order, smooth=smooth\n",
        "        )\n",
        "        (bleu, precisions, bp, ratio, translation_length, reference_length) = score\n",
        "        return {\n",
        "            \"bleu\": bleu,\n",
        "            \"precisions\": precisions,\n",
        "            \"brevity_penalty\": bp,\n",
        "            \"length_ratio\": ratio,\n",
        "            \"translation_length\": translation_length,\n",
        "            \"reference_length\": reference_length,\n",
        "        }\n",
        "    \n",
        "    "
      ]
    },
    {
      "cell_type": "code",
      "execution_count": null,
      "metadata": {},
      "outputs": [],
      "source": [
        "from keras.layers import Activation, dot, concatenate, Dense, Input, Embedding, LSTM, Lambda, TimeDistributed\n",
        "from keras import backend as K\n",
        "\n",
        "# Define the window radius\n",
        "window_radius = 5\n",
        "\n",
        "# Encoder input layer\n",
        "encoder_inputs = Input(shape=(max_eng_sent_length,))\n",
        "# Embedding layer\n",
        "encoder_embedding = Embedding(tot_eng_tokens, 50, weights=[embedding_matrix], trainable=True)(encoder_inputs)\n",
        "# LSTM layer\n",
        "encoder_outputs, state_h, state_c = LSTM(256, return_sequences=True, return_state=True, unroll=True)(encoder_embedding)\n",
        "# Encoder states\n",
        "encoder_states = [state_h, state_c]\n",
        "\n",
        "# Decoder input layer\n",
        "decoder_inputs = Input(shape=(max_german_sent_length,))\n",
        "# Embedding layer\n",
        "decoder_embedding = Embedding(tot_german_tokens, 50)(decoder_inputs)\n",
        "# LSTM layer\n",
        "decoder_lstm = LSTM(256, return_sequences=True, return_state=True, unroll=True)\n",
        "decoder_outputs, _, _ = decoder_lstm(decoder_embedding, initial_state=encoder_states)\n",
        "\n",
        "# Compute the alignment scores\n",
        "score_dense = Dense(1)\n",
        "score_concat = concatenate([decoder_outputs, encoder_outputs], axis=-1)\n",
        "score = score_dense(score_concat)\n",
        "\n",
        "# Compute the local window\n",
        "prev_alignment = Input(shape=(max_eng_sent_length,))\n",
        "gating_dense = Dense(1, activation='sigmoid')\n",
        "gating = gating_dense(prev_alignment)\n",
        "window_size = 2 * window_radius + 1\n",
        "padding = K.zeros((K.shape(encoder_outputs)[0], window_radius, K.shape(encoder_outputs)[2]))\n",
        "padded_encoder_outputs = K.concatenate([padding, encoder_outputs, padding], axis=1)\n",
        "window = K.map_fn(lambda a: padded_encoder_outputs[:, a:a+window_size, :], K.cast(prev_alignment, 'int32'))\n",
        "masked_score = Lambda(lambda a: a[0] * K.squeeze(a[1], axis=-1))([score, gating])\n",
        "masked_attention = Activation('softmax')(masked_score)\n",
        "context = dot([masked_attention, window], axes=[2, 1])\n",
        "\n",
        "# Concatenate the context and decoder outputs\n",
        "decoder_combined_context = concatenate([context, decoder_outputs])\n",
        "\n",
        "# TimeDistributed Dense layer\n",
        "output = TimeDistributed(Dense(64, activation=\"relu\"))(decoder_combined_context)\n",
        "output = TimeDistributed(Dense(tot_german_tokens, activation=\"softmax\"))(output)\n",
        "\n",
        "# Define the model\n",
        "model_local = Model(inputs=[encoder_inputs, decoder_inputs, prev_alignment], outputs=output)\n",
        "\n",
        "# Compile the model\n",
        "model_local.compile(optimizer='rmsprop', loss='categorical_crossentropy', metrics=['accuracy'])\n",
        "\n",
        "# Print the summary of the model\n",
        "model_local.summary()\n"
      ]
    },
    {
      "cell_type": "code",
      "execution_count": 58,
      "metadata": {},
      "outputs": [
        {
          "name": "stdout",
          "output_type": "stream",
          "text": [
            "Epoch 1/10\n",
            "139/139 [==============================] - 333s 2s/step - loss: 1.2411 - accuracy: 0.2657 - val_loss: 0.6358 - val_accuracy: 0.0038\n",
            "Epoch 2/10\n",
            "139/139 [==============================] - 291s 2s/step - loss: 1.0826 - accuracy: 0.7972 - val_loss: 0.6343 - val_accuracy: 0.8930\n",
            "Epoch 3/10\n",
            "139/139 [==============================] - 293s 2s/step - loss: 1.0770 - accuracy: 0.8289 - val_loss: 0.6297 - val_accuracy: 0.9047\n",
            "Epoch 4/10\n",
            "139/139 [==============================] - 287s 2s/step - loss: 1.0733 - accuracy: 0.7847 - val_loss: 0.6272 - val_accuracy: 0.9006\n",
            "Epoch 5/10\n",
            "139/139 [==============================] - 285s 2s/step - loss: 1.0704 - accuracy: 0.8034 - val_loss: 0.6273 - val_accuracy: 0.9032\n",
            "Epoch 6/10\n",
            "139/139 [==============================] - 286s 2s/step - loss: 1.0679 - accuracy: 0.8248 - val_loss: 0.6249 - val_accuracy: 0.9000\n",
            "Epoch 7/10\n",
            "139/139 [==============================] - 290s 2s/step - loss: 1.0658 - accuracy: 0.8383 - val_loss: 0.6259 - val_accuracy: 0.9018\n",
            "Epoch 8/10\n",
            "139/139 [==============================] - 288s 2s/step - loss: 1.0640 - accuracy: 0.8403 - val_loss: 0.6263 - val_accuracy: 0.9021\n",
            "Epoch 9/10\n",
            "139/139 [==============================] - 288s 2s/step - loss: 1.0619 - accuracy: 0.8431 - val_loss: 0.6240 - val_accuracy: 0.9007\n",
            "Epoch 10/10\n",
            "139/139 [==============================] - 281s 2s/step - loss: 1.0596 - accuracy: 0.8461 - val_loss: 0.6225 - val_accuracy: 0.9002\n"
          ]
        },
        {
          "data": {
            "text/plain": [
              "<keras.callbacks.History at 0x7f7404765820>"
            ]
          },
          "execution_count": 58,
          "metadata": {},
          "output_type": "execute_result"
        }
      ],
      "source": [
        "model_local.fit([enc_input_data, dec_input_data], dec_target_data,\n",
        "          batch_size=72,\n",
        "          epochs=10,\n",
        "          validation_data=([enc_input_data_test, dec_input_data_test], dec_target_data_test))"
      ]
    },
    {
      "cell_type": "code",
      "execution_count": 66,
      "metadata": {},
      "outputs": [
        {
          "data": {
            "image/png": "[encoded data removed]",
            "text/plain": [
              "<Figure size 640x480 with 1 Axes>"
            ]
          },
          "metadata": {},
          "output_type": "display_data"
        }
      ],
      "source": [
        "train_loss = [1.2411, 1.0826, 1.0770, 1.0733, 1.0704, 1.0679, 1.0658,  1.0640, 0.6263, 1.0639 ]\n",
        "val_loss = [0.6358, 0.6343, 0.6297,0.6272, 0.6273, 0.6249, 0.6259, 1.0580, 0.6240, 0.6240 ]\n",
        "plt.plot(range(1,11), train_loss, label = 'train_loss' )\n",
        "plt.plot(range(1,11), val_loss, label = 'val_loss' )\n",
        "plt.legend()\n",
        "plt.show()"
      ]
    },
    {
      "cell_type": "code",
      "execution_count": null,
      "metadata": {},
      "outputs": [],
      "source": [
        "model_local.save('saved_model/local')"
      ]
    },
    {
      "cell_type": "code",
      "execution_count": 60,
      "metadata": {},
      "outputs": [],
      "source": [
        "# model_local = tf.keras.models.load_model('saved_model/local')"
      ]
    },
    {
      "cell_type": "code",
      "execution_count": 61,
      "metadata": {},
      "outputs": [],
      "source": [
        "# reverse-lookup token index to turn sequences back to words\n",
        "reverse_target_char_index = dict((i, char) for char, i in target_token_index.items())"
      ]
    },
    {
      "cell_type": "code",
      "execution_count": null,
      "metadata": {},
      "outputs": [],
      "source": [
        "#Displaying few translations from the training set\n",
        "for i in range(1):\n",
        "    input_seq = enc_input_data[i: i+ 1]\n",
        "    translated_sentence = translation_attention(input_seq)\n",
        "    print('\\n')\n",
        "    print('Input sentence:', eng_sentences[i: i + 1])\n",
        "    print('Translated sentence:', translated_sentence)"
      ]
    },
    {
      "cell_type": "code",
      "execution_count": null,
      "metadata": {},
      "outputs": [],
      "source": [
        "#Translating the sentences in test data set\n",
        "original_sequence_att, predicted_sequence_att = list(), list()\n",
        "for i in range(30):\n",
        "    print(i)\n",
        "    input_seq = enc_input_data_test_new[i: i + 1]\n",
        "    decoded_sent = translation_attention(input_seq)\n",
        "    predicted_sequence_att.append(decoded_sent)\n",
        "    original_sequence_att.append(german_sentences_test[i])"
      ]
    },
    {
      "cell_type": "code",
      "execution_count": 68,
      "metadata": {},
      "outputs": [
        {
          "name": "stdout",
          "output_type": "stream",
          "text": [
            "BLEU1 Score on Test set:0.01143684401013391 \n",
            " BLEU2 Score on Test set:0.0 \n",
            "\n",
            " ROUGEL Score on Test set:0.012386164036197364 \n"
          ]
        }
      ],
      "source": [
        "# import evaluate\n",
        "bleu = Bleu()\n",
        "rouge = Rouge()\n",
        "# rouge = evaluate.load(\"rouge\")\n",
        "results_rouge = rouge._compute(predictions=predicted_sequence_att, references = original_sequence_att, rouge_types=['rougeL'])\n",
        "results_bleu_1 = bleu._compute(predictions=predicted_sequence_att, references = original_sequence_att, max_order=1)\n",
        "results_bleu_2 = bleu._compute(predictions=predicted_sequence_att, references = original_sequence_att, max_order=2)\n",
        "print(f\"BLEU1 Score on Test set:{results_bleu_1['bleu']} \\n BLEU2 Score on Test set:{results_bleu_2['bleu']} \\n\\n ROUGEL Score on Test set:{results_rouge['rougeL'].mid.fmeasure} \")"
      ]
    }
  ],
  "metadata": {
    "accelerator": "GPU",
    "colab": {
      "machine_shape": "hm",
      "provenance": []
    },
    "gpuClass": "standard",
    "kernelspec": {
      "display_name": "base",
      "language": "python",
      "name": "python3"
    },
    "language_info": {
      "codemirror_mode": {
        "name": "ipython",
        "version": 3
      },
      "file_extension": ".py",
      "mimetype": "text/x-python",
      "name": "python",
      "nbconvert_exporter": "python",
      "pygments_lexer": "ipython3",
      "version": "3.9.12"
    },
    "vscode": {
      "interpreter": {
        "hash": "b433b37ec09cc2a5046ea6ac09ac71609d6a53f489e114e174b10ddbec93e823"
      }
    },
    "widgets": {
      "application/vnd.jupyter.widget-state+json": {
        "06f710a98c5047639f6a2b2fb403f394": {
          "model_module": "@jupyter-widgets/base",
          "model_module_version": "1.2.0",
          "model_name": "LayoutModel",
          "state": {
            "_model_module": "@jupyter-widgets/base",
            "_model_module_version": "1.2.0",
            "_model_name": "LayoutModel",
            "_view_count": null,
            "_view_module": "@jupyter-widgets/base",
            "_view_module_version": "1.2.0",
            "_view_name": "LayoutView",
            "align_content": null,
            "align_items": null,
            "align_self": null,
            "border": null,
            "bottom": null,
            "display": null,
            "flex": null,
            "flex_flow": null,
            "grid_area": null,
            "grid_auto_columns": null,
            "grid_auto_flow": null,
            "grid_auto_rows": null,
            "grid_column": null,
            "grid_gap": null,
            "grid_row": null,
            "grid_template_areas": null,
            "grid_template_columns": null,
            "grid_template_rows": null,
            "height": null,
            "justify_content": null,
            "justify_items": null,
            "left": null,
            "margin": null,
            "max_height": null,
            "max_width": null,
            "min_height": null,
            "min_width": null,
            "object_fit": null,
            "object_position": null,
            "order": null,
            "overflow": null,
            "overflow_x": null,
            "overflow_y": null,
            "padding": null,
            "right": null,
            "top": null,
            "visibility": null,
            "width": null
          }
        },
        "079041c2202d4467aad9ec3a5f5a39b8": {
          "model_module": "@jupyter-widgets/controls",
          "model_module_version": "1.5.0",
          "model_name": "HBoxModel",
          "state": {
            "_dom_classes": [],
            "_model_module": "@jupyter-widgets/controls",
            "_model_module_version": "1.5.0",
            "_model_name": "HBoxModel",
            "_view_count": null,
            "_view_module": "@jupyter-widgets/controls",
            "_view_module_version": "1.5.0",
            "_view_name": "HBoxView",
            "box_style": "",
            "children": [
              "IPY_MODEL_ee15f8861bfa495fb0f6e12706ec1ff8",
              "IPY_MODEL_56af4103396b40d588b5a61e6cb329a0",
              "IPY_MODEL_845cce1203cc4a858715d1b70837cd8f"
            ],
            "layout": "IPY_MODEL_1cec6fb0c8344579ae120d455edd8758"
          }
        },
        "0f65146a6f9c42fa909a1407f2c86c3f": {
          "model_module": "@jupyter-widgets/controls",
          "model_module_version": "1.5.0",
          "model_name": "HBoxModel",
          "state": {
            "_dom_classes": [],
            "_model_module": "@jupyter-widgets/controls",
            "_model_module_version": "1.5.0",
            "_model_name": "HBoxModel",
            "_view_count": null,
            "_view_module": "@jupyter-widgets/controls",
            "_view_module_version": "1.5.0",
            "_view_name": "HBoxView",
            "box_style": "",
            "children": [
              "IPY_MODEL_5b70f507099a428f8eea8186d7b1e67b",
              "IPY_MODEL_8439c62515ab4e77a98f60984db5f88d",
              "IPY_MODEL_e399559f3b584d69a3fba198af876a2d"
            ],
            "layout": "IPY_MODEL_3965f700b2b0406587b8e3c4d786c136"
          }
        },
        "1104fde8539d4fba96e98d5cb3744857": {
          "model_module": "@jupyter-widgets/controls",
          "model_module_version": "1.5.0",
          "model_name": "DescriptionStyleModel",
          "state": {
            "_model_module": "@jupyter-widgets/controls",
            "_model_module_version": "1.5.0",
            "_model_name": "DescriptionStyleModel",
            "_view_count": null,
            "_view_module": "@jupyter-widgets/base",
            "_view_module_version": "1.2.0",
            "_view_name": "StyleView",
            "description_width": ""
          }
        },
        "1bcd52defce44994b1399308b78c799f": {
          "model_module": "@jupyter-widgets/base",
          "model_module_version": "1.2.0",
          "model_name": "LayoutModel",
          "state": {
            "_model_module": "@jupyter-widgets/base",
            "_model_module_version": "1.2.0",
            "_model_name": "LayoutModel",
            "_view_count": null,
            "_view_module": "@jupyter-widgets/base",
            "_view_module_version": "1.2.0",
            "_view_name": "LayoutView",
            "align_content": null,
            "align_items": null,
            "align_self": null,
            "border": null,
            "bottom": null,
            "display": null,
            "flex": null,
            "flex_flow": null,
            "grid_area": null,
            "grid_auto_columns": null,
            "grid_auto_flow": null,
            "grid_auto_rows": null,
            "grid_column": null,
            "grid_gap": null,
            "grid_row": null,
            "grid_template_areas": null,
            "grid_template_columns": null,
            "grid_template_rows": null,
            "height": null,
            "justify_content": null,
            "justify_items": null,
            "left": null,
            "margin": null,
            "max_height": null,
            "max_width": null,
            "min_height": null,
            "min_width": null,
            "object_fit": null,
            "object_position": null,
            "order": null,
            "overflow": null,
            "overflow_x": null,
            "overflow_y": null,
            "padding": null,
            "right": null,
            "top": null,
            "visibility": null,
            "width": null
          }
        },
        "1bfe5bf71f6f4598aa7821e3441bf090": {
          "model_module": "@jupyter-widgets/base",
          "model_module_version": "1.2.0",
          "model_name": "LayoutModel",
          "state": {
            "_model_module": "@jupyter-widgets/base",
            "_model_module_version": "1.2.0",
            "_model_name": "LayoutModel",
            "_view_count": null,
            "_view_module": "@jupyter-widgets/base",
            "_view_module_version": "1.2.0",
            "_view_name": "LayoutView",
            "align_content": null,
            "align_items": null,
            "align_self": null,
            "border": null,
            "bottom": null,
            "display": null,
            "flex": null,
            "flex_flow": null,
            "grid_area": null,
            "grid_auto_columns": null,
            "grid_auto_flow": null,
            "grid_auto_rows": null,
            "grid_column": null,
            "grid_gap": null,
            "grid_row": null,
            "grid_template_areas": null,
            "grid_template_columns": null,
            "grid_template_rows": null,
            "height": null,
            "justify_content": null,
            "justify_items": null,
            "left": null,
            "margin": null,
            "max_height": null,
            "max_width": null,
            "min_height": null,
            "min_width": null,
            "object_fit": null,
            "object_position": null,
            "order": null,
            "overflow": null,
            "overflow_x": null,
            "overflow_y": null,
            "padding": null,
            "right": null,
            "top": null,
            "visibility": null,
            "width": null
          }
        },
        "1cec6fb0c8344579ae120d455edd8758": {
          "model_module": "@jupyter-widgets/base",
          "model_module_version": "1.2.0",
          "model_name": "LayoutModel",
          "state": {
            "_model_module": "@jupyter-widgets/base",
            "_model_module_version": "1.2.0",
            "_model_name": "LayoutModel",
            "_view_count": null,
            "_view_module": "@jupyter-widgets/base",
            "_view_module_version": "1.2.0",
            "_view_name": "LayoutView",
            "align_content": null,
            "align_items": null,
            "align_self": null,
            "border": null,
            "bottom": null,
            "display": null,
            "flex": null,
            "flex_flow": null,
            "grid_area": null,
            "grid_auto_columns": null,
            "grid_auto_flow": null,
            "grid_auto_rows": null,
            "grid_column": null,
            "grid_gap": null,
            "grid_row": null,
            "grid_template_areas": null,
            "grid_template_columns": null,
            "grid_template_rows": null,
            "height": null,
            "justify_content": null,
            "justify_items": null,
            "left": null,
            "margin": null,
            "max_height": null,
            "max_width": null,
            "min_height": null,
            "min_width": null,
            "object_fit": null,
            "object_position": null,
            "order": null,
            "overflow": null,
            "overflow_x": null,
            "overflow_y": null,
            "padding": null,
            "right": null,
            "top": null,
            "visibility": null,
            "width": null
          }
        },
        "1d49898d01464d0e88fcc64f615b1769": {
          "model_module": "@jupyter-widgets/base",
          "model_module_version": "1.2.0",
          "model_name": "LayoutModel",
          "state": {
            "_model_module": "@jupyter-widgets/base",
            "_model_module_version": "1.2.0",
            "_model_name": "LayoutModel",
            "_view_count": null,
            "_view_module": "@jupyter-widgets/base",
            "_view_module_version": "1.2.0",
            "_view_name": "LayoutView",
            "align_content": null,
            "align_items": null,
            "align_self": null,
            "border": null,
            "bottom": null,
            "display": null,
            "flex": null,
            "flex_flow": null,
            "grid_area": null,
            "grid_auto_columns": null,
            "grid_auto_flow": null,
            "grid_auto_rows": null,
            "grid_column": null,
            "grid_gap": null,
            "grid_row": null,
            "grid_template_areas": null,
            "grid_template_columns": null,
            "grid_template_rows": null,
            "height": null,
            "justify_content": null,
            "justify_items": null,
            "left": null,
            "margin": null,
            "max_height": null,
            "max_width": null,
            "min_height": null,
            "min_width": null,
            "object_fit": null,
            "object_position": null,
            "order": null,
            "overflow": null,
            "overflow_x": null,
            "overflow_y": null,
            "padding": null,
            "right": null,
            "top": null,
            "visibility": null,
            "width": null
          }
        },
        "1eb341223bc64f70b2235ed6403fb66a": {
          "model_module": "@jupyter-widgets/base",
          "model_module_version": "1.2.0",
          "model_name": "LayoutModel",
          "state": {
            "_model_module": "@jupyter-widgets/base",
            "_model_module_version": "1.2.0",
            "_model_name": "LayoutModel",
            "_view_count": null,
            "_view_module": "@jupyter-widgets/base",
            "_view_module_version": "1.2.0",
            "_view_name": "LayoutView",
            "align_content": null,
            "align_items": null,
            "align_self": null,
            "border": null,
            "bottom": null,
            "display": null,
            "flex": null,
            "flex_flow": null,
            "grid_area": null,
            "grid_auto_columns": null,
            "grid_auto_flow": null,
            "grid_auto_rows": null,
            "grid_column": null,
            "grid_gap": null,
            "grid_row": null,
            "grid_template_areas": null,
            "grid_template_columns": null,
            "grid_template_rows": null,
            "height": null,
            "justify_content": null,
            "justify_items": null,
            "left": null,
            "margin": null,
            "max_height": null,
            "max_width": null,
            "min_height": null,
            "min_width": null,
            "object_fit": null,
            "object_position": null,
            "order": null,
            "overflow": null,
            "overflow_x": null,
            "overflow_y": null,
            "padding": null,
            "right": null,
            "top": null,
            "visibility": null,
            "width": null
          }
        },
        "20473e77055949bd9b8d88f643ec001a": {
          "model_module": "@jupyter-widgets/base",
          "model_module_version": "1.2.0",
          "model_name": "LayoutModel",
          "state": {
            "_model_module": "@jupyter-widgets/base",
            "_model_module_version": "1.2.0",
            "_model_name": "LayoutModel",
            "_view_count": null,
            "_view_module": "@jupyter-widgets/base",
            "_view_module_version": "1.2.0",
            "_view_name": "LayoutView",
            "align_content": null,
            "align_items": null,
            "align_self": null,
            "border": null,
            "bottom": null,
            "display": null,
            "flex": null,
            "flex_flow": null,
            "grid_area": null,
            "grid_auto_columns": null,
            "grid_auto_flow": null,
            "grid_auto_rows": null,
            "grid_column": null,
            "grid_gap": null,
            "grid_row": null,
            "grid_template_areas": null,
            "grid_template_columns": null,
            "grid_template_rows": null,
            "height": null,
            "justify_content": null,
            "justify_items": null,
            "left": null,
            "margin": null,
            "max_height": null,
            "max_width": null,
            "min_height": null,
            "min_width": null,
            "object_fit": null,
            "object_position": null,
            "order": null,
            "overflow": null,
            "overflow_x": null,
            "overflow_y": null,
            "padding": null,
            "right": null,
            "top": null,
            "visibility": null,
            "width": null
          }
        },
        "2d102560a11346e5ae8ba94d0a89f173": {
          "model_module": "@jupyter-widgets/controls",
          "model_module_version": "1.5.0",
          "model_name": "DescriptionStyleModel",
          "state": {
            "_model_module": "@jupyter-widgets/controls",
            "_model_module_version": "1.5.0",
            "_model_name": "DescriptionStyleModel",
            "_view_count": null,
            "_view_module": "@jupyter-widgets/base",
            "_view_module_version": "1.2.0",
            "_view_name": "StyleView",
            "description_width": ""
          }
        },
        "32ba7e2fafc64bfa9591ee8d5fda6739": {
          "model_module": "@jupyter-widgets/controls",
          "model_module_version": "1.5.0",
          "model_name": "DescriptionStyleModel",
          "state": {
            "_model_module": "@jupyter-widgets/controls",
            "_model_module_version": "1.5.0",
            "_model_name": "DescriptionStyleModel",
            "_view_count": null,
            "_view_module": "@jupyter-widgets/base",
            "_view_module_version": "1.2.0",
            "_view_name": "StyleView",
            "description_width": ""
          }
        },
        "380c2b254d134e17b97de671864fb39c": {
          "model_module": "@jupyter-widgets/base",
          "model_module_version": "1.2.0",
          "model_name": "LayoutModel",
          "state": {
            "_model_module": "@jupyter-widgets/base",
            "_model_module_version": "1.2.0",
            "_model_name": "LayoutModel",
            "_view_count": null,
            "_view_module": "@jupyter-widgets/base",
            "_view_module_version": "1.2.0",
            "_view_name": "LayoutView",
            "align_content": null,
            "align_items": null,
            "align_self": null,
            "border": null,
            "bottom": null,
            "display": null,
            "flex": null,
            "flex_flow": null,
            "grid_area": null,
            "grid_auto_columns": null,
            "grid_auto_flow": null,
            "grid_auto_rows": null,
            "grid_column": null,
            "grid_gap": null,
            "grid_row": null,
            "grid_template_areas": null,
            "grid_template_columns": null,
            "grid_template_rows": null,
            "height": null,
            "justify_content": null,
            "justify_items": null,
            "left": null,
            "margin": null,
            "max_height": null,
            "max_width": null,
            "min_height": null,
            "min_width": null,
            "object_fit": null,
            "object_position": null,
            "order": null,
            "overflow": null,
            "overflow_x": null,
            "overflow_y": null,
            "padding": null,
            "right": null,
            "top": null,
            "visibility": null,
            "width": null
          }
        },
        "3965f700b2b0406587b8e3c4d786c136": {
          "model_module": "@jupyter-widgets/base",
          "model_module_version": "1.2.0",
          "model_name": "LayoutModel",
          "state": {
            "_model_module": "@jupyter-widgets/base",
            "_model_module_version": "1.2.0",
            "_model_name": "LayoutModel",
            "_view_count": null,
            "_view_module": "@jupyter-widgets/base",
            "_view_module_version": "1.2.0",
            "_view_name": "LayoutView",
            "align_content": null,
            "align_items": null,
            "align_self": null,
            "border": null,
            "bottom": null,
            "display": null,
            "flex": null,
            "flex_flow": null,
            "grid_area": null,
            "grid_auto_columns": null,
            "grid_auto_flow": null,
            "grid_auto_rows": null,
            "grid_column": null,
            "grid_gap": null,
            "grid_row": null,
            "grid_template_areas": null,
            "grid_template_columns": null,
            "grid_template_rows": null,
            "height": null,
            "justify_content": null,
            "justify_items": null,
            "left": null,
            "margin": null,
            "max_height": null,
            "max_width": null,
            "min_height": null,
            "min_width": null,
            "object_fit": null,
            "object_position": null,
            "order": null,
            "overflow": null,
            "overflow_x": null,
            "overflow_y": null,
            "padding": null,
            "right": null,
            "top": null,
            "visibility": null,
            "width": null
          }
        },
        "39e2598173e242ea830ab74b2e2215a0": {
          "model_module": "@jupyter-widgets/base",
          "model_module_version": "1.2.0",
          "model_name": "LayoutModel",
          "state": {
            "_model_module": "@jupyter-widgets/base",
            "_model_module_version": "1.2.0",
            "_model_name": "LayoutModel",
            "_view_count": null,
            "_view_module": "@jupyter-widgets/base",
            "_view_module_version": "1.2.0",
            "_view_name": "LayoutView",
            "align_content": null,
            "align_items": null,
            "align_self": null,
            "border": null,
            "bottom": null,
            "display": null,
            "flex": null,
            "flex_flow": null,
            "grid_area": null,
            "grid_auto_columns": null,
            "grid_auto_flow": null,
            "grid_auto_rows": null,
            "grid_column": null,
            "grid_gap": null,
            "grid_row": null,
            "grid_template_areas": null,
            "grid_template_columns": null,
            "grid_template_rows": null,
            "height": null,
            "justify_content": null,
            "justify_items": null,
            "left": null,
            "margin": null,
            "max_height": null,
            "max_width": null,
            "min_height": null,
            "min_width": null,
            "object_fit": null,
            "object_position": null,
            "order": null,
            "overflow": null,
            "overflow_x": null,
            "overflow_y": null,
            "padding": null,
            "right": null,
            "top": null,
            "visibility": null,
            "width": null
          }
        },
        "3ca117a44e0941b1bd71d9bbff38cb63": {
          "model_module": "@jupyter-widgets/controls",
          "model_module_version": "1.5.0",
          "model_name": "HTMLModel",
          "state": {
            "_dom_classes": [],
            "_model_module": "@jupyter-widgets/controls",
            "_model_module_version": "1.5.0",
            "_model_name": "HTMLModel",
            "_view_count": null,
            "_view_module": "@jupyter-widgets/controls",
            "_view_module_version": "1.5.0",
            "_view_name": "HTMLView",
            "description": "",
            "description_tooltip": null,
            "layout": "IPY_MODEL_e059020ec41c4bedb61bb0b36be6e995",
            "placeholder": "​",
            "style": "IPY_MODEL_a432a9d1311f4cc2825a8654b902928b",
            "value": " 2169/2169 [00:00&lt;00:00, 6896.03it/s]"
          }
        },
        "3cc4b57207164bf389581401959fa3ca": {
          "model_module": "@jupyter-widgets/controls",
          "model_module_version": "1.5.0",
          "model_name": "ProgressStyleModel",
          "state": {
            "_model_module": "@jupyter-widgets/controls",
            "_model_module_version": "1.5.0",
            "_model_name": "ProgressStyleModel",
            "_view_count": null,
            "_view_module": "@jupyter-widgets/base",
            "_view_module_version": "1.2.0",
            "_view_name": "StyleView",
            "bar_color": null,
            "description_width": ""
          }
        },
        "4668892bcde84ea99339e40cb953ef9f": {
          "model_module": "@jupyter-widgets/base",
          "model_module_version": "1.2.0",
          "model_name": "LayoutModel",
          "state": {
            "_model_module": "@jupyter-widgets/base",
            "_model_module_version": "1.2.0",
            "_model_name": "LayoutModel",
            "_view_count": null,
            "_view_module": "@jupyter-widgets/base",
            "_view_module_version": "1.2.0",
            "_view_name": "LayoutView",
            "align_content": null,
            "align_items": null,
            "align_self": null,
            "border": null,
            "bottom": null,
            "display": null,
            "flex": null,
            "flex_flow": null,
            "grid_area": null,
            "grid_auto_columns": null,
            "grid_auto_flow": null,
            "grid_auto_rows": null,
            "grid_column": null,
            "grid_gap": null,
            "grid_row": null,
            "grid_template_areas": null,
            "grid_template_columns": null,
            "grid_template_rows": null,
            "height": null,
            "justify_content": null,
            "justify_items": null,
            "left": null,
            "margin": null,
            "max_height": null,
            "max_width": null,
            "min_height": null,
            "min_width": null,
            "object_fit": null,
            "object_position": null,
            "order": null,
            "overflow": null,
            "overflow_x": null,
            "overflow_y": null,
            "padding": null,
            "right": null,
            "top": null,
            "visibility": null,
            "width": null
          }
        },
        "4a60e6c91c6c4bbe96fbc330d3196375": {
          "model_module": "@jupyter-widgets/controls",
          "model_module_version": "1.5.0",
          "model_name": "ProgressStyleModel",
          "state": {
            "_model_module": "@jupyter-widgets/controls",
            "_model_module_version": "1.5.0",
            "_model_name": "ProgressStyleModel",
            "_view_count": null,
            "_view_module": "@jupyter-widgets/base",
            "_view_module_version": "1.2.0",
            "_view_name": "StyleView",
            "bar_color": null,
            "description_width": ""
          }
        },
        "4ce7e8cb5f77487890d63985758b13e5": {
          "model_module": "@jupyter-widgets/controls",
          "model_module_version": "1.5.0",
          "model_name": "HTMLModel",
          "state": {
            "_dom_classes": [],
            "_model_module": "@jupyter-widgets/controls",
            "_model_module_version": "1.5.0",
            "_model_name": "HTMLModel",
            "_view_count": null,
            "_view_module": "@jupyter-widgets/controls",
            "_view_module_version": "1.5.0",
            "_view_name": "HTMLView",
            "description": "",
            "description_tooltip": null,
            "layout": "IPY_MODEL_b25002d3a1ff4a4fb86d508df6cd486f",
            "placeholder": "​",
            "style": "IPY_MODEL_835598f26fb74b06816dadacb49325dc",
            "value": "100%"
          }
        },
        "50b33bacf2ea4ae383231ec6312b82dd": {
          "model_module": "@jupyter-widgets/controls",
          "model_module_version": "1.5.0",
          "model_name": "DescriptionStyleModel",
          "state": {
            "_model_module": "@jupyter-widgets/controls",
            "_model_module_version": "1.5.0",
            "_model_name": "DescriptionStyleModel",
            "_view_count": null,
            "_view_module": "@jupyter-widgets/base",
            "_view_module_version": "1.2.0",
            "_view_name": "StyleView",
            "description_width": ""
          }
        },
        "519c21791d0648bdb9f96cc8957df126": {
          "model_module": "@jupyter-widgets/controls",
          "model_module_version": "1.5.0",
          "model_name": "ProgressStyleModel",
          "state": {
            "_model_module": "@jupyter-widgets/controls",
            "_model_module_version": "1.5.0",
            "_model_name": "ProgressStyleModel",
            "_view_count": null,
            "_view_module": "@jupyter-widgets/base",
            "_view_module_version": "1.2.0",
            "_view_name": "StyleView",
            "bar_color": null,
            "description_width": ""
          }
        },
        "51c1d47e8a444e6d859a05075f3d8be6": {
          "model_module": "@jupyter-widgets/controls",
          "model_module_version": "1.5.0",
          "model_name": "DescriptionStyleModel",
          "state": {
            "_model_module": "@jupyter-widgets/controls",
            "_model_module_version": "1.5.0",
            "_model_name": "DescriptionStyleModel",
            "_view_count": null,
            "_view_module": "@jupyter-widgets/base",
            "_view_module_version": "1.2.0",
            "_view_name": "StyleView",
            "description_width": ""
          }
        },
        "5517a891051f4d1aaa214c5be874ea99": {
          "model_module": "@jupyter-widgets/base",
          "model_module_version": "1.2.0",
          "model_name": "LayoutModel",
          "state": {
            "_model_module": "@jupyter-widgets/base",
            "_model_module_version": "1.2.0",
            "_model_name": "LayoutModel",
            "_view_count": null,
            "_view_module": "@jupyter-widgets/base",
            "_view_module_version": "1.2.0",
            "_view_name": "LayoutView",
            "align_content": null,
            "align_items": null,
            "align_self": null,
            "border": null,
            "bottom": null,
            "display": null,
            "flex": null,
            "flex_flow": null,
            "grid_area": null,
            "grid_auto_columns": null,
            "grid_auto_flow": null,
            "grid_auto_rows": null,
            "grid_column": null,
            "grid_gap": null,
            "grid_row": null,
            "grid_template_areas": null,
            "grid_template_columns": null,
            "grid_template_rows": null,
            "height": null,
            "justify_content": null,
            "justify_items": null,
            "left": null,
            "margin": null,
            "max_height": null,
            "max_width": null,
            "min_height": null,
            "min_width": null,
            "object_fit": null,
            "object_position": null,
            "order": null,
            "overflow": null,
            "overflow_x": null,
            "overflow_y": null,
            "padding": null,
            "right": null,
            "top": null,
            "visibility": null,
            "width": null
          }
        },
        "56af4103396b40d588b5a61e6cb329a0": {
          "model_module": "@jupyter-widgets/controls",
          "model_module_version": "1.5.0",
          "model_name": "FloatProgressModel",
          "state": {
            "_dom_classes": [],
            "_model_module": "@jupyter-widgets/controls",
            "_model_module_version": "1.5.0",
            "_model_name": "FloatProgressModel",
            "_view_count": null,
            "_view_module": "@jupyter-widgets/controls",
            "_view_module_version": "1.5.0",
            "_view_name": "ProgressView",
            "bar_style": "success",
            "description": "",
            "description_tooltip": null,
            "layout": "IPY_MODEL_7d6b473d77ee435f85656b7744aa113e",
            "max": 10000,
            "min": 0,
            "orientation": "horizontal",
            "style": "IPY_MODEL_4a60e6c91c6c4bbe96fbc330d3196375",
            "value": 10000
          }
        },
        "5b70f507099a428f8eea8186d7b1e67b": {
          "model_module": "@jupyter-widgets/controls",
          "model_module_version": "1.5.0",
          "model_name": "HTMLModel",
          "state": {
            "_dom_classes": [],
            "_model_module": "@jupyter-widgets/controls",
            "_model_module_version": "1.5.0",
            "_model_name": "HTMLModel",
            "_view_count": null,
            "_view_module": "@jupyter-widgets/controls",
            "_view_module_version": "1.5.0",
            "_view_name": "HTMLView",
            "description": "",
            "description_tooltip": null,
            "layout": "IPY_MODEL_380c2b254d134e17b97de671864fb39c",
            "placeholder": "​",
            "style": "IPY_MODEL_b301af835a08408a9e20e877b02f9add",
            "value": "100%"
          }
        },
        "5f440301c17c48a2934829e408f2f200": {
          "model_module": "@jupyter-widgets/controls",
          "model_module_version": "1.5.0",
          "model_name": "FloatProgressModel",
          "state": {
            "_dom_classes": [],
            "_model_module": "@jupyter-widgets/controls",
            "_model_module_version": "1.5.0",
            "_model_name": "FloatProgressModel",
            "_view_count": null,
            "_view_module": "@jupyter-widgets/controls",
            "_view_module_version": "1.5.0",
            "_view_name": "ProgressView",
            "bar_style": "success",
            "description": "",
            "description_tooltip": null,
            "layout": "IPY_MODEL_a1e7fb7f3a1141fc93bea3961e71f1f7",
            "max": 2169,
            "min": 0,
            "orientation": "horizontal",
            "style": "IPY_MODEL_3cc4b57207164bf389581401959fa3ca",
            "value": 2169
          }
        },
        "5fbfb32a1ecc40c19a4fa13ca63e1ff2": {
          "model_module": "@jupyter-widgets/base",
          "model_module_version": "1.2.0",
          "model_name": "LayoutModel",
          "state": {
            "_model_module": "@jupyter-widgets/base",
            "_model_module_version": "1.2.0",
            "_model_name": "LayoutModel",
            "_view_count": null,
            "_view_module": "@jupyter-widgets/base",
            "_view_module_version": "1.2.0",
            "_view_name": "LayoutView",
            "align_content": null,
            "align_items": null,
            "align_self": null,
            "border": null,
            "bottom": null,
            "display": null,
            "flex": null,
            "flex_flow": null,
            "grid_area": null,
            "grid_auto_columns": null,
            "grid_auto_flow": null,
            "grid_auto_rows": null,
            "grid_column": null,
            "grid_gap": null,
            "grid_row": null,
            "grid_template_areas": null,
            "grid_template_columns": null,
            "grid_template_rows": null,
            "height": null,
            "justify_content": null,
            "justify_items": null,
            "left": null,
            "margin": null,
            "max_height": null,
            "max_width": null,
            "min_height": null,
            "min_width": null,
            "object_fit": null,
            "object_position": null,
            "order": null,
            "overflow": null,
            "overflow_x": null,
            "overflow_y": null,
            "padding": null,
            "right": null,
            "top": null,
            "visibility": null,
            "width": null
          }
        },
        "632626131eef477cbd2639f785420b0e": {
          "model_module": "@jupyter-widgets/base",
          "model_module_version": "1.2.0",
          "model_name": "LayoutModel",
          "state": {
            "_model_module": "@jupyter-widgets/base",
            "_model_module_version": "1.2.0",
            "_model_name": "LayoutModel",
            "_view_count": null,
            "_view_module": "@jupyter-widgets/base",
            "_view_module_version": "1.2.0",
            "_view_name": "LayoutView",
            "align_content": null,
            "align_items": null,
            "align_self": null,
            "border": null,
            "bottom": null,
            "display": null,
            "flex": null,
            "flex_flow": null,
            "grid_area": null,
            "grid_auto_columns": null,
            "grid_auto_flow": null,
            "grid_auto_rows": null,
            "grid_column": null,
            "grid_gap": null,
            "grid_row": null,
            "grid_template_areas": null,
            "grid_template_columns": null,
            "grid_template_rows": null,
            "height": null,
            "justify_content": null,
            "justify_items": null,
            "left": null,
            "margin": null,
            "max_height": null,
            "max_width": null,
            "min_height": null,
            "min_width": null,
            "object_fit": null,
            "object_position": null,
            "order": null,
            "overflow": null,
            "overflow_x": null,
            "overflow_y": null,
            "padding": null,
            "right": null,
            "top": null,
            "visibility": null,
            "width": null
          }
        },
        "6996adbc00384009bc87311bca19041d": {
          "model_module": "@jupyter-widgets/base",
          "model_module_version": "1.2.0",
          "model_name": "LayoutModel",
          "state": {
            "_model_module": "@jupyter-widgets/base",
            "_model_module_version": "1.2.0",
            "_model_name": "LayoutModel",
            "_view_count": null,
            "_view_module": "@jupyter-widgets/base",
            "_view_module_version": "1.2.0",
            "_view_name": "LayoutView",
            "align_content": null,
            "align_items": null,
            "align_self": null,
            "border": null,
            "bottom": null,
            "display": null,
            "flex": null,
            "flex_flow": null,
            "grid_area": null,
            "grid_auto_columns": null,
            "grid_auto_flow": null,
            "grid_auto_rows": null,
            "grid_column": null,
            "grid_gap": null,
            "grid_row": null,
            "grid_template_areas": null,
            "grid_template_columns": null,
            "grid_template_rows": null,
            "height": null,
            "justify_content": null,
            "justify_items": null,
            "left": null,
            "margin": null,
            "max_height": null,
            "max_width": null,
            "min_height": null,
            "min_width": null,
            "object_fit": null,
            "object_position": null,
            "order": null,
            "overflow": null,
            "overflow_x": null,
            "overflow_y": null,
            "padding": null,
            "right": null,
            "top": null,
            "visibility": null,
            "width": null
          }
        },
        "6bef8a9e99f84279b20a1a44006dd082": {
          "model_module": "@jupyter-widgets/base",
          "model_module_version": "1.2.0",
          "model_name": "LayoutModel",
          "state": {
            "_model_module": "@jupyter-widgets/base",
            "_model_module_version": "1.2.0",
            "_model_name": "LayoutModel",
            "_view_count": null,
            "_view_module": "@jupyter-widgets/base",
            "_view_module_version": "1.2.0",
            "_view_name": "LayoutView",
            "align_content": null,
            "align_items": null,
            "align_self": null,
            "border": null,
            "bottom": null,
            "display": null,
            "flex": null,
            "flex_flow": null,
            "grid_area": null,
            "grid_auto_columns": null,
            "grid_auto_flow": null,
            "grid_auto_rows": null,
            "grid_column": null,
            "grid_gap": null,
            "grid_row": null,
            "grid_template_areas": null,
            "grid_template_columns": null,
            "grid_template_rows": null,
            "height": null,
            "justify_content": null,
            "justify_items": null,
            "left": null,
            "margin": null,
            "max_height": null,
            "max_width": null,
            "min_height": null,
            "min_width": null,
            "object_fit": null,
            "object_position": null,
            "order": null,
            "overflow": null,
            "overflow_x": null,
            "overflow_y": null,
            "padding": null,
            "right": null,
            "top": null,
            "visibility": null,
            "width": null
          }
        },
        "6e9336dd91354ce3ad739b515be2144c": {
          "model_module": "@jupyter-widgets/controls",
          "model_module_version": "1.5.0",
          "model_name": "HBoxModel",
          "state": {
            "_dom_classes": [],
            "_model_module": "@jupyter-widgets/controls",
            "_model_module_version": "1.5.0",
            "_model_name": "HBoxModel",
            "_view_count": null,
            "_view_module": "@jupyter-widgets/controls",
            "_view_module_version": "1.5.0",
            "_view_name": "HBoxView",
            "box_style": "",
            "children": [
              "IPY_MODEL_7162af9de2d14778a9c7831363067382",
              "IPY_MODEL_ca2ca20688fc47c0a6bc17f2fc7fa622",
              "IPY_MODEL_807706ccf8dd413d81d0ccce20184153"
            ],
            "layout": "IPY_MODEL_1eb341223bc64f70b2235ed6403fb66a"
          }
        },
        "7162af9de2d14778a9c7831363067382": {
          "model_module": "@jupyter-widgets/controls",
          "model_module_version": "1.5.0",
          "model_name": "HTMLModel",
          "state": {
            "_dom_classes": [],
            "_model_module": "@jupyter-widgets/controls",
            "_model_module_version": "1.5.0",
            "_model_name": "HTMLModel",
            "_view_count": null,
            "_view_module": "@jupyter-widgets/controls",
            "_view_module_version": "1.5.0",
            "_view_name": "HTMLView",
            "description": "",
            "description_tooltip": null,
            "layout": "IPY_MODEL_1bcd52defce44994b1399308b78c799f",
            "placeholder": "​",
            "style": "IPY_MODEL_cfe311f20440402189e5fc0e3816abef",
            "value": "100%"
          }
        },
        "752f325683814e9cb85637bd9e07d78c": {
          "model_module": "@jupyter-widgets/base",
          "model_module_version": "1.2.0",
          "model_name": "LayoutModel",
          "state": {
            "_model_module": "@jupyter-widgets/base",
            "_model_module_version": "1.2.0",
            "_model_name": "LayoutModel",
            "_view_count": null,
            "_view_module": "@jupyter-widgets/base",
            "_view_module_version": "1.2.0",
            "_view_name": "LayoutView",
            "align_content": null,
            "align_items": null,
            "align_self": null,
            "border": null,
            "bottom": null,
            "display": null,
            "flex": null,
            "flex_flow": null,
            "grid_area": null,
            "grid_auto_columns": null,
            "grid_auto_flow": null,
            "grid_auto_rows": null,
            "grid_column": null,
            "grid_gap": null,
            "grid_row": null,
            "grid_template_areas": null,
            "grid_template_columns": null,
            "grid_template_rows": null,
            "height": null,
            "justify_content": null,
            "justify_items": null,
            "left": null,
            "margin": null,
            "max_height": null,
            "max_width": null,
            "min_height": null,
            "min_width": null,
            "object_fit": null,
            "object_position": null,
            "order": null,
            "overflow": null,
            "overflow_x": null,
            "overflow_y": null,
            "padding": null,
            "right": null,
            "top": null,
            "visibility": null,
            "width": null
          }
        },
        "7a13d6d0eb2047b89cc1b80cf704e4cc": {
          "model_module": "@jupyter-widgets/controls",
          "model_module_version": "1.5.0",
          "model_name": "DescriptionStyleModel",
          "state": {
            "_model_module": "@jupyter-widgets/controls",
            "_model_module_version": "1.5.0",
            "_model_name": "DescriptionStyleModel",
            "_view_count": null,
            "_view_module": "@jupyter-widgets/base",
            "_view_module_version": "1.2.0",
            "_view_name": "StyleView",
            "description_width": ""
          }
        },
        "7d6b473d77ee435f85656b7744aa113e": {
          "model_module": "@jupyter-widgets/base",
          "model_module_version": "1.2.0",
          "model_name": "LayoutModel",
          "state": {
            "_model_module": "@jupyter-widgets/base",
            "_model_module_version": "1.2.0",
            "_model_name": "LayoutModel",
            "_view_count": null,
            "_view_module": "@jupyter-widgets/base",
            "_view_module_version": "1.2.0",
            "_view_name": "LayoutView",
            "align_content": null,
            "align_items": null,
            "align_self": null,
            "border": null,
            "bottom": null,
            "display": null,
            "flex": null,
            "flex_flow": null,
            "grid_area": null,
            "grid_auto_columns": null,
            "grid_auto_flow": null,
            "grid_auto_rows": null,
            "grid_column": null,
            "grid_gap": null,
            "grid_row": null,
            "grid_template_areas": null,
            "grid_template_columns": null,
            "grid_template_rows": null,
            "height": null,
            "justify_content": null,
            "justify_items": null,
            "left": null,
            "margin": null,
            "max_height": null,
            "max_width": null,
            "min_height": null,
            "min_width": null,
            "object_fit": null,
            "object_position": null,
            "order": null,
            "overflow": null,
            "overflow_x": null,
            "overflow_y": null,
            "padding": null,
            "right": null,
            "top": null,
            "visibility": null,
            "width": null
          }
        },
        "7dc7a6adbb5c46eb9aa7a4da46a71a61": {
          "model_module": "@jupyter-widgets/base",
          "model_module_version": "1.2.0",
          "model_name": "LayoutModel",
          "state": {
            "_model_module": "@jupyter-widgets/base",
            "_model_module_version": "1.2.0",
            "_model_name": "LayoutModel",
            "_view_count": null,
            "_view_module": "@jupyter-widgets/base",
            "_view_module_version": "1.2.0",
            "_view_name": "LayoutView",
            "align_content": null,
            "align_items": null,
            "align_self": null,
            "border": null,
            "bottom": null,
            "display": null,
            "flex": null,
            "flex_flow": null,
            "grid_area": null,
            "grid_auto_columns": null,
            "grid_auto_flow": null,
            "grid_auto_rows": null,
            "grid_column": null,
            "grid_gap": null,
            "grid_row": null,
            "grid_template_areas": null,
            "grid_template_columns": null,
            "grid_template_rows": null,
            "height": null,
            "justify_content": null,
            "justify_items": null,
            "left": null,
            "margin": null,
            "max_height": null,
            "max_width": null,
            "min_height": null,
            "min_width": null,
            "object_fit": null,
            "object_position": null,
            "order": null,
            "overflow": null,
            "overflow_x": null,
            "overflow_y": null,
            "padding": null,
            "right": null,
            "top": null,
            "visibility": null,
            "width": null
          }
        },
        "807706ccf8dd413d81d0ccce20184153": {
          "model_module": "@jupyter-widgets/controls",
          "model_module_version": "1.5.0",
          "model_name": "HTMLModel",
          "state": {
            "_dom_classes": [],
            "_model_module": "@jupyter-widgets/controls",
            "_model_module_version": "1.5.0",
            "_model_name": "HTMLModel",
            "_view_count": null,
            "_view_module": "@jupyter-widgets/controls",
            "_view_module_version": "1.5.0",
            "_view_name": "HTMLView",
            "description": "",
            "description_tooltip": null,
            "layout": "IPY_MODEL_5fbfb32a1ecc40c19a4fa13ca63e1ff2",
            "placeholder": "​",
            "style": "IPY_MODEL_85cf8cbf086f4786a6604d922be8fe79",
            "value": " 3/3 [00:06&lt;00:00,  6.52s/it]"
          }
        },
        "835598f26fb74b06816dadacb49325dc": {
          "model_module": "@jupyter-widgets/controls",
          "model_module_version": "1.5.0",
          "model_name": "DescriptionStyleModel",
          "state": {
            "_model_module": "@jupyter-widgets/controls",
            "_model_module_version": "1.5.0",
            "_model_name": "DescriptionStyleModel",
            "_view_count": null,
            "_view_module": "@jupyter-widgets/base",
            "_view_module_version": "1.2.0",
            "_view_name": "StyleView",
            "description_width": ""
          }
        },
        "8439c62515ab4e77a98f60984db5f88d": {
          "model_module": "@jupyter-widgets/controls",
          "model_module_version": "1.5.0",
          "model_name": "FloatProgressModel",
          "state": {
            "_dom_classes": [],
            "_model_module": "@jupyter-widgets/controls",
            "_model_module_version": "1.5.0",
            "_model_name": "FloatProgressModel",
            "_view_count": null,
            "_view_module": "@jupyter-widgets/controls",
            "_view_module_version": "1.5.0",
            "_view_name": "ProgressView",
            "bar_style": "success",
            "description": "",
            "description_tooltip": null,
            "layout": "IPY_MODEL_9909eb2d7ea543c68dd82c2295a66d57",
            "max": 2169,
            "min": 0,
            "orientation": "horizontal",
            "style": "IPY_MODEL_d47b39b1b7bb41bfa94b9d41c7351397",
            "value": 2169
          }
        },
        "845cce1203cc4a858715d1b70837cd8f": {
          "model_module": "@jupyter-widgets/controls",
          "model_module_version": "1.5.0",
          "model_name": "HTMLModel",
          "state": {
            "_dom_classes": [],
            "_model_module": "@jupyter-widgets/controls",
            "_model_module_version": "1.5.0",
            "_model_name": "HTMLModel",
            "_view_count": null,
            "_view_module": "@jupyter-widgets/controls",
            "_view_module_version": "1.5.0",
            "_view_name": "HTMLView",
            "description": "",
            "description_tooltip": null,
            "layout": "IPY_MODEL_92f9029f16b141faa875bf9e8ae1d60e",
            "placeholder": "​",
            "style": "IPY_MODEL_51c1d47e8a444e6d859a05075f3d8be6",
            "value": " 10000/10000 [00:00&lt;00:00, 145112.55it/s]"
          }
        },
        "85cf8cbf086f4786a6604d922be8fe79": {
          "model_module": "@jupyter-widgets/controls",
          "model_module_version": "1.5.0",
          "model_name": "DescriptionStyleModel",
          "state": {
            "_model_module": "@jupyter-widgets/controls",
            "_model_module_version": "1.5.0",
            "_model_name": "DescriptionStyleModel",
            "_view_count": null,
            "_view_module": "@jupyter-widgets/base",
            "_view_module_version": "1.2.0",
            "_view_name": "StyleView",
            "description_width": ""
          }
        },
        "890dd64152cb40f68dc0b20e8a402456": {
          "model_module": "@jupyter-widgets/base",
          "model_module_version": "1.2.0",
          "model_name": "LayoutModel",
          "state": {
            "_model_module": "@jupyter-widgets/base",
            "_model_module_version": "1.2.0",
            "_model_name": "LayoutModel",
            "_view_count": null,
            "_view_module": "@jupyter-widgets/base",
            "_view_module_version": "1.2.0",
            "_view_name": "LayoutView",
            "align_content": null,
            "align_items": null,
            "align_self": null,
            "border": null,
            "bottom": null,
            "display": null,
            "flex": null,
            "flex_flow": null,
            "grid_area": null,
            "grid_auto_columns": null,
            "grid_auto_flow": null,
            "grid_auto_rows": null,
            "grid_column": null,
            "grid_gap": null,
            "grid_row": null,
            "grid_template_areas": null,
            "grid_template_columns": null,
            "grid_template_rows": null,
            "height": null,
            "justify_content": null,
            "justify_items": null,
            "left": null,
            "margin": null,
            "max_height": null,
            "max_width": null,
            "min_height": null,
            "min_width": null,
            "object_fit": null,
            "object_position": null,
            "order": null,
            "overflow": null,
            "overflow_x": null,
            "overflow_y": null,
            "padding": null,
            "right": null,
            "top": null,
            "visibility": null,
            "width": null
          }
        },
        "8e6c65b2c5824c5c8104f443bedbdaeb": {
          "model_module": "@jupyter-widgets/base",
          "model_module_version": "1.2.0",
          "model_name": "LayoutModel",
          "state": {
            "_model_module": "@jupyter-widgets/base",
            "_model_module_version": "1.2.0",
            "_model_name": "LayoutModel",
            "_view_count": null,
            "_view_module": "@jupyter-widgets/base",
            "_view_module_version": "1.2.0",
            "_view_name": "LayoutView",
            "align_content": null,
            "align_items": null,
            "align_self": null,
            "border": null,
            "bottom": null,
            "display": null,
            "flex": null,
            "flex_flow": null,
            "grid_area": null,
            "grid_auto_columns": null,
            "grid_auto_flow": null,
            "grid_auto_rows": null,
            "grid_column": null,
            "grid_gap": null,
            "grid_row": null,
            "grid_template_areas": null,
            "grid_template_columns": null,
            "grid_template_rows": null,
            "height": null,
            "justify_content": null,
            "justify_items": null,
            "left": null,
            "margin": null,
            "max_height": null,
            "max_width": null,
            "min_height": null,
            "min_width": null,
            "object_fit": null,
            "object_position": null,
            "order": null,
            "overflow": null,
            "overflow_x": null,
            "overflow_y": null,
            "padding": null,
            "right": null,
            "top": null,
            "visibility": null,
            "width": null
          }
        },
        "9024e5c6a92f43fb85baeec7ab56b66c": {
          "model_module": "@jupyter-widgets/controls",
          "model_module_version": "1.5.0",
          "model_name": "HTMLModel",
          "state": {
            "_dom_classes": [],
            "_model_module": "@jupyter-widgets/controls",
            "_model_module_version": "1.5.0",
            "_model_name": "HTMLModel",
            "_view_count": null,
            "_view_module": "@jupyter-widgets/controls",
            "_view_module_version": "1.5.0",
            "_view_name": "HTMLView",
            "description": "",
            "description_tooltip": null,
            "layout": "IPY_MODEL_06f710a98c5047639f6a2b2fb403f394",
            "placeholder": "​",
            "style": "IPY_MODEL_32ba7e2fafc64bfa9591ee8d5fda6739",
            "value": " 2999/2999 [00:00&lt;00:00, 6251.91it/s]"
          }
        },
        "92f9029f16b141faa875bf9e8ae1d60e": {
          "model_module": "@jupyter-widgets/base",
          "model_module_version": "1.2.0",
          "model_name": "LayoutModel",
          "state": {
            "_model_module": "@jupyter-widgets/base",
            "_model_module_version": "1.2.0",
            "_model_name": "LayoutModel",
            "_view_count": null,
            "_view_module": "@jupyter-widgets/base",
            "_view_module_version": "1.2.0",
            "_view_name": "LayoutView",
            "align_content": null,
            "align_items": null,
            "align_self": null,
            "border": null,
            "bottom": null,
            "display": null,
            "flex": null,
            "flex_flow": null,
            "grid_area": null,
            "grid_auto_columns": null,
            "grid_auto_flow": null,
            "grid_auto_rows": null,
            "grid_column": null,
            "grid_gap": null,
            "grid_row": null,
            "grid_template_areas": null,
            "grid_template_columns": null,
            "grid_template_rows": null,
            "height": null,
            "justify_content": null,
            "justify_items": null,
            "left": null,
            "margin": null,
            "max_height": null,
            "max_width": null,
            "min_height": null,
            "min_width": null,
            "object_fit": null,
            "object_position": null,
            "order": null,
            "overflow": null,
            "overflow_x": null,
            "overflow_y": null,
            "padding": null,
            "right": null,
            "top": null,
            "visibility": null,
            "width": null
          }
        },
        "956b5cff0b7142d9bc05e7c8244f1a44": {
          "model_module": "@jupyter-widgets/controls",
          "model_module_version": "1.5.0",
          "model_name": "FloatProgressModel",
          "state": {
            "_dom_classes": [],
            "_model_module": "@jupyter-widgets/controls",
            "_model_module_version": "1.5.0",
            "_model_name": "FloatProgressModel",
            "_view_count": null,
            "_view_module": "@jupyter-widgets/controls",
            "_view_module_version": "1.5.0",
            "_view_name": "ProgressView",
            "bar_style": "success",
            "description": "",
            "description_tooltip": null,
            "layout": "IPY_MODEL_20473e77055949bd9b8d88f643ec001a",
            "max": 2999,
            "min": 0,
            "orientation": "horizontal",
            "style": "IPY_MODEL_9e5bd5b9479f420c88e96bf6e549b7d7",
            "value": 2999
          }
        },
        "974abbfc664b46dba9a6186b3ba158c7": {
          "model_module": "@jupyter-widgets/controls",
          "model_module_version": "1.5.0",
          "model_name": "HTMLModel",
          "state": {
            "_dom_classes": [],
            "_model_module": "@jupyter-widgets/controls",
            "_model_module_version": "1.5.0",
            "_model_name": "HTMLModel",
            "_view_count": null,
            "_view_module": "@jupyter-widgets/controls",
            "_view_module_version": "1.5.0",
            "_view_name": "HTMLView",
            "description": "",
            "description_tooltip": null,
            "layout": "IPY_MODEL_5517a891051f4d1aaa214c5be874ea99",
            "placeholder": "​",
            "style": "IPY_MODEL_50b33bacf2ea4ae383231ec6312b82dd",
            "value": " 10000/10000 [00:00&lt;00:00, 164398.05it/s]"
          }
        },
        "9898b1f6482342e2b3f2542738e44411": {
          "model_module": "@jupyter-widgets/controls",
          "model_module_version": "1.5.0",
          "model_name": "DescriptionStyleModel",
          "state": {
            "_model_module": "@jupyter-widgets/controls",
            "_model_module_version": "1.5.0",
            "_model_name": "DescriptionStyleModel",
            "_view_count": null,
            "_view_module": "@jupyter-widgets/base",
            "_view_module_version": "1.2.0",
            "_view_name": "StyleView",
            "description_width": ""
          }
        },
        "9909eb2d7ea543c68dd82c2295a66d57": {
          "model_module": "@jupyter-widgets/base",
          "model_module_version": "1.2.0",
          "model_name": "LayoutModel",
          "state": {
            "_model_module": "@jupyter-widgets/base",
            "_model_module_version": "1.2.0",
            "_model_name": "LayoutModel",
            "_view_count": null,
            "_view_module": "@jupyter-widgets/base",
            "_view_module_version": "1.2.0",
            "_view_name": "LayoutView",
            "align_content": null,
            "align_items": null,
            "align_self": null,
            "border": null,
            "bottom": null,
            "display": null,
            "flex": null,
            "flex_flow": null,
            "grid_area": null,
            "grid_auto_columns": null,
            "grid_auto_flow": null,
            "grid_auto_rows": null,
            "grid_column": null,
            "grid_gap": null,
            "grid_row": null,
            "grid_template_areas": null,
            "grid_template_columns": null,
            "grid_template_rows": null,
            "height": null,
            "justify_content": null,
            "justify_items": null,
            "left": null,
            "margin": null,
            "max_height": null,
            "max_width": null,
            "min_height": null,
            "min_width": null,
            "object_fit": null,
            "object_position": null,
            "order": null,
            "overflow": null,
            "overflow_x": null,
            "overflow_y": null,
            "padding": null,
            "right": null,
            "top": null,
            "visibility": null,
            "width": null
          }
        },
        "9a18ec37857b424abd5b619c78c1ea8d": {
          "model_module": "@jupyter-widgets/base",
          "model_module_version": "1.2.0",
          "model_name": "LayoutModel",
          "state": {
            "_model_module": "@jupyter-widgets/base",
            "_model_module_version": "1.2.0",
            "_model_name": "LayoutModel",
            "_view_count": null,
            "_view_module": "@jupyter-widgets/base",
            "_view_module_version": "1.2.0",
            "_view_name": "LayoutView",
            "align_content": null,
            "align_items": null,
            "align_self": null,
            "border": null,
            "bottom": null,
            "display": null,
            "flex": null,
            "flex_flow": null,
            "grid_area": null,
            "grid_auto_columns": null,
            "grid_auto_flow": null,
            "grid_auto_rows": null,
            "grid_column": null,
            "grid_gap": null,
            "grid_row": null,
            "grid_template_areas": null,
            "grid_template_columns": null,
            "grid_template_rows": null,
            "height": null,
            "justify_content": null,
            "justify_items": null,
            "left": null,
            "margin": null,
            "max_height": null,
            "max_width": null,
            "min_height": null,
            "min_width": null,
            "object_fit": null,
            "object_position": null,
            "order": null,
            "overflow": null,
            "overflow_x": null,
            "overflow_y": null,
            "padding": null,
            "right": null,
            "top": null,
            "visibility": null,
            "width": null
          }
        },
        "9c7124f930f440499cd7f7d81d121e7a": {
          "model_module": "@jupyter-widgets/controls",
          "model_module_version": "1.5.0",
          "model_name": "FloatProgressModel",
          "state": {
            "_dom_classes": [],
            "_model_module": "@jupyter-widgets/controls",
            "_model_module_version": "1.5.0",
            "_model_name": "FloatProgressModel",
            "_view_count": null,
            "_view_module": "@jupyter-widgets/controls",
            "_view_module_version": "1.5.0",
            "_view_name": "ProgressView",
            "bar_style": "success",
            "description": "",
            "description_tooltip": null,
            "layout": "IPY_MODEL_632626131eef477cbd2639f785420b0e",
            "max": 2999,
            "min": 0,
            "orientation": "horizontal",
            "style": "IPY_MODEL_c2b95abeeb4e4fbfb39452a8c2bd79fe",
            "value": 2999
          }
        },
        "9e5bd5b9479f420c88e96bf6e549b7d7": {
          "model_module": "@jupyter-widgets/controls",
          "model_module_version": "1.5.0",
          "model_name": "ProgressStyleModel",
          "state": {
            "_model_module": "@jupyter-widgets/controls",
            "_model_module_version": "1.5.0",
            "_model_name": "ProgressStyleModel",
            "_view_count": null,
            "_view_module": "@jupyter-widgets/base",
            "_view_module_version": "1.2.0",
            "_view_name": "StyleView",
            "bar_color": null,
            "description_width": ""
          }
        },
        "a1e7fb7f3a1141fc93bea3961e71f1f7": {
          "model_module": "@jupyter-widgets/base",
          "model_module_version": "1.2.0",
          "model_name": "LayoutModel",
          "state": {
            "_model_module": "@jupyter-widgets/base",
            "_model_module_version": "1.2.0",
            "_model_name": "LayoutModel",
            "_view_count": null,
            "_view_module": "@jupyter-widgets/base",
            "_view_module_version": "1.2.0",
            "_view_name": "LayoutView",
            "align_content": null,
            "align_items": null,
            "align_self": null,
            "border": null,
            "bottom": null,
            "display": null,
            "flex": null,
            "flex_flow": null,
            "grid_area": null,
            "grid_auto_columns": null,
            "grid_auto_flow": null,
            "grid_auto_rows": null,
            "grid_column": null,
            "grid_gap": null,
            "grid_row": null,
            "grid_template_areas": null,
            "grid_template_columns": null,
            "grid_template_rows": null,
            "height": null,
            "justify_content": null,
            "justify_items": null,
            "left": null,
            "margin": null,
            "max_height": null,
            "max_width": null,
            "min_height": null,
            "min_width": null,
            "object_fit": null,
            "object_position": null,
            "order": null,
            "overflow": null,
            "overflow_x": null,
            "overflow_y": null,
            "padding": null,
            "right": null,
            "top": null,
            "visibility": null,
            "width": null
          }
        },
        "a432a9d1311f4cc2825a8654b902928b": {
          "model_module": "@jupyter-widgets/controls",
          "model_module_version": "1.5.0",
          "model_name": "DescriptionStyleModel",
          "state": {
            "_model_module": "@jupyter-widgets/controls",
            "_model_module_version": "1.5.0",
            "_model_name": "DescriptionStyleModel",
            "_view_count": null,
            "_view_module": "@jupyter-widgets/base",
            "_view_module_version": "1.2.0",
            "_view_name": "StyleView",
            "description_width": ""
          }
        },
        "a97c18dc72d044aaa0720ea5c6ba97b9": {
          "model_module": "@jupyter-widgets/controls",
          "model_module_version": "1.5.0",
          "model_name": "HTMLModel",
          "state": {
            "_dom_classes": [],
            "_model_module": "@jupyter-widgets/controls",
            "_model_module_version": "1.5.0",
            "_model_name": "HTMLModel",
            "_view_count": null,
            "_view_module": "@jupyter-widgets/controls",
            "_view_module_version": "1.5.0",
            "_view_name": "HTMLView",
            "description": "",
            "description_tooltip": null,
            "layout": "IPY_MODEL_b43c3e6c51a542bfb0a36483475bde74",
            "placeholder": "​",
            "style": "IPY_MODEL_7a13d6d0eb2047b89cc1b80cf704e4cc",
            "value": "100%"
          }
        },
        "a99234ce17b24c7fb41d7398602ecc9a": {
          "model_module": "@jupyter-widgets/controls",
          "model_module_version": "1.5.0",
          "model_name": "ProgressStyleModel",
          "state": {
            "_model_module": "@jupyter-widgets/controls",
            "_model_module_version": "1.5.0",
            "_model_name": "ProgressStyleModel",
            "_view_count": null,
            "_view_module": "@jupyter-widgets/base",
            "_view_module_version": "1.2.0",
            "_view_name": "StyleView",
            "bar_color": null,
            "description_width": ""
          }
        },
        "aac44fcfc90344a28c3ab7bb38041f23": {
          "model_module": "@jupyter-widgets/controls",
          "model_module_version": "1.5.0",
          "model_name": "DescriptionStyleModel",
          "state": {
            "_model_module": "@jupyter-widgets/controls",
            "_model_module_version": "1.5.0",
            "_model_name": "DescriptionStyleModel",
            "_view_count": null,
            "_view_module": "@jupyter-widgets/base",
            "_view_module_version": "1.2.0",
            "_view_name": "StyleView",
            "description_width": ""
          }
        },
        "ac4b80751c72498da325b2d43e53c4a7": {
          "model_module": "@jupyter-widgets/controls",
          "model_module_version": "1.5.0",
          "model_name": "HTMLModel",
          "state": {
            "_dom_classes": [],
            "_model_module": "@jupyter-widgets/controls",
            "_model_module_version": "1.5.0",
            "_model_name": "HTMLModel",
            "_view_count": null,
            "_view_module": "@jupyter-widgets/controls",
            "_view_module_version": "1.5.0",
            "_view_name": "HTMLView",
            "description": "",
            "description_tooltip": null,
            "layout": "IPY_MODEL_6996adbc00384009bc87311bca19041d",
            "placeholder": "​",
            "style": "IPY_MODEL_aac44fcfc90344a28c3ab7bb38041f23",
            "value": " 2999/2999 [00:00&lt;00:00, 8821.69it/s]"
          }
        },
        "afda3223c92c45d5be642f7a8f976cb7": {
          "model_module": "@jupyter-widgets/controls",
          "model_module_version": "1.5.0",
          "model_name": "HTMLModel",
          "state": {
            "_dom_classes": [],
            "_model_module": "@jupyter-widgets/controls",
            "_model_module_version": "1.5.0",
            "_model_name": "HTMLModel",
            "_view_count": null,
            "_view_module": "@jupyter-widgets/controls",
            "_view_module_version": "1.5.0",
            "_view_name": "HTMLView",
            "description": "",
            "description_tooltip": null,
            "layout": "IPY_MODEL_752f325683814e9cb85637bd9e07d78c",
            "placeholder": "​",
            "style": "IPY_MODEL_2d102560a11346e5ae8ba94d0a89f173",
            "value": "100%"
          }
        },
        "b0ee84019a9b4b219150abfaaf45b08e": {
          "model_module": "@jupyter-widgets/controls",
          "model_module_version": "1.5.0",
          "model_name": "HTMLModel",
          "state": {
            "_dom_classes": [],
            "_model_module": "@jupyter-widgets/controls",
            "_model_module_version": "1.5.0",
            "_model_name": "HTMLModel",
            "_view_count": null,
            "_view_module": "@jupyter-widgets/controls",
            "_view_module_version": "1.5.0",
            "_view_name": "HTMLView",
            "description": "",
            "description_tooltip": null,
            "layout": "IPY_MODEL_890dd64152cb40f68dc0b20e8a402456",
            "placeholder": "​",
            "style": "IPY_MODEL_b9eaea7f995c4900bb94455a1e0594df",
            "value": "100%"
          }
        },
        "b25002d3a1ff4a4fb86d508df6cd486f": {
          "model_module": "@jupyter-widgets/base",
          "model_module_version": "1.2.0",
          "model_name": "LayoutModel",
          "state": {
            "_model_module": "@jupyter-widgets/base",
            "_model_module_version": "1.2.0",
            "_model_name": "LayoutModel",
            "_view_count": null,
            "_view_module": "@jupyter-widgets/base",
            "_view_module_version": "1.2.0",
            "_view_name": "LayoutView",
            "align_content": null,
            "align_items": null,
            "align_self": null,
            "border": null,
            "bottom": null,
            "display": null,
            "flex": null,
            "flex_flow": null,
            "grid_area": null,
            "grid_auto_columns": null,
            "grid_auto_flow": null,
            "grid_auto_rows": null,
            "grid_column": null,
            "grid_gap": null,
            "grid_row": null,
            "grid_template_areas": null,
            "grid_template_columns": null,
            "grid_template_rows": null,
            "height": null,
            "justify_content": null,
            "justify_items": null,
            "left": null,
            "margin": null,
            "max_height": null,
            "max_width": null,
            "min_height": null,
            "min_width": null,
            "object_fit": null,
            "object_position": null,
            "order": null,
            "overflow": null,
            "overflow_x": null,
            "overflow_y": null,
            "padding": null,
            "right": null,
            "top": null,
            "visibility": null,
            "width": null
          }
        },
        "b25b7eee3b304cd2acdc36790bd05eca": {
          "model_module": "@jupyter-widgets/controls",
          "model_module_version": "1.5.0",
          "model_name": "HBoxModel",
          "state": {
            "_dom_classes": [],
            "_model_module": "@jupyter-widgets/controls",
            "_model_module_version": "1.5.0",
            "_model_name": "HBoxModel",
            "_view_count": null,
            "_view_module": "@jupyter-widgets/controls",
            "_view_module_version": "1.5.0",
            "_view_name": "HBoxView",
            "box_style": "",
            "children": [
              "IPY_MODEL_afda3223c92c45d5be642f7a8f976cb7",
              "IPY_MODEL_e5aa0a2798ea4657a5b76e388f80dad5",
              "IPY_MODEL_974abbfc664b46dba9a6186b3ba158c7"
            ],
            "layout": "IPY_MODEL_7dc7a6adbb5c46eb9aa7a4da46a71a61"
          }
        },
        "b301af835a08408a9e20e877b02f9add": {
          "model_module": "@jupyter-widgets/controls",
          "model_module_version": "1.5.0",
          "model_name": "DescriptionStyleModel",
          "state": {
            "_model_module": "@jupyter-widgets/controls",
            "_model_module_version": "1.5.0",
            "_model_name": "DescriptionStyleModel",
            "_view_count": null,
            "_view_module": "@jupyter-widgets/base",
            "_view_module_version": "1.2.0",
            "_view_name": "StyleView",
            "description_width": ""
          }
        },
        "b43c3e6c51a542bfb0a36483475bde74": {
          "model_module": "@jupyter-widgets/base",
          "model_module_version": "1.2.0",
          "model_name": "LayoutModel",
          "state": {
            "_model_module": "@jupyter-widgets/base",
            "_model_module_version": "1.2.0",
            "_model_name": "LayoutModel",
            "_view_count": null,
            "_view_module": "@jupyter-widgets/base",
            "_view_module_version": "1.2.0",
            "_view_name": "LayoutView",
            "align_content": null,
            "align_items": null,
            "align_self": null,
            "border": null,
            "bottom": null,
            "display": null,
            "flex": null,
            "flex_flow": null,
            "grid_area": null,
            "grid_auto_columns": null,
            "grid_auto_flow": null,
            "grid_auto_rows": null,
            "grid_column": null,
            "grid_gap": null,
            "grid_row": null,
            "grid_template_areas": null,
            "grid_template_columns": null,
            "grid_template_rows": null,
            "height": null,
            "justify_content": null,
            "justify_items": null,
            "left": null,
            "margin": null,
            "max_height": null,
            "max_width": null,
            "min_height": null,
            "min_width": null,
            "object_fit": null,
            "object_position": null,
            "order": null,
            "overflow": null,
            "overflow_x": null,
            "overflow_y": null,
            "padding": null,
            "right": null,
            "top": null,
            "visibility": null,
            "width": null
          }
        },
        "b69c721119114246b80f62854c0bad91": {
          "model_module": "@jupyter-widgets/controls",
          "model_module_version": "1.5.0",
          "model_name": "HBoxModel",
          "state": {
            "_dom_classes": [],
            "_model_module": "@jupyter-widgets/controls",
            "_model_module_version": "1.5.0",
            "_model_name": "HBoxModel",
            "_view_count": null,
            "_view_module": "@jupyter-widgets/controls",
            "_view_module_version": "1.5.0",
            "_view_name": "HBoxView",
            "box_style": "",
            "children": [
              "IPY_MODEL_a97c18dc72d044aaa0720ea5c6ba97b9",
              "IPY_MODEL_5f440301c17c48a2934829e408f2f200",
              "IPY_MODEL_3ca117a44e0941b1bd71d9bbff38cb63"
            ],
            "layout": "IPY_MODEL_1d49898d01464d0e88fcc64f615b1769"
          }
        },
        "b9eaea7f995c4900bb94455a1e0594df": {
          "model_module": "@jupyter-widgets/controls",
          "model_module_version": "1.5.0",
          "model_name": "DescriptionStyleModel",
          "state": {
            "_model_module": "@jupyter-widgets/controls",
            "_model_module_version": "1.5.0",
            "_model_name": "DescriptionStyleModel",
            "_view_count": null,
            "_view_module": "@jupyter-widgets/base",
            "_view_module_version": "1.2.0",
            "_view_name": "StyleView",
            "description_width": ""
          }
        },
        "bc86168ee4974927bd190672b0a3f6bc": {
          "model_module": "@jupyter-widgets/controls",
          "model_module_version": "1.5.0",
          "model_name": "HBoxModel",
          "state": {
            "_dom_classes": [],
            "_model_module": "@jupyter-widgets/controls",
            "_model_module_version": "1.5.0",
            "_model_name": "HBoxModel",
            "_view_count": null,
            "_view_module": "@jupyter-widgets/controls",
            "_view_module_version": "1.5.0",
            "_view_name": "HBoxView",
            "box_style": "",
            "children": [
              "IPY_MODEL_b0ee84019a9b4b219150abfaaf45b08e",
              "IPY_MODEL_9c7124f930f440499cd7f7d81d121e7a",
              "IPY_MODEL_ac4b80751c72498da325b2d43e53c4a7"
            ],
            "layout": "IPY_MODEL_6bef8a9e99f84279b20a1a44006dd082"
          }
        },
        "c2b95abeeb4e4fbfb39452a8c2bd79fe": {
          "model_module": "@jupyter-widgets/controls",
          "model_module_version": "1.5.0",
          "model_name": "ProgressStyleModel",
          "state": {
            "_model_module": "@jupyter-widgets/controls",
            "_model_module_version": "1.5.0",
            "_model_name": "ProgressStyleModel",
            "_view_count": null,
            "_view_module": "@jupyter-widgets/base",
            "_view_module_version": "1.2.0",
            "_view_name": "StyleView",
            "bar_color": null,
            "description_width": ""
          }
        },
        "ca2ca20688fc47c0a6bc17f2fc7fa622": {
          "model_module": "@jupyter-widgets/controls",
          "model_module_version": "1.5.0",
          "model_name": "FloatProgressModel",
          "state": {
            "_dom_classes": [],
            "_model_module": "@jupyter-widgets/controls",
            "_model_module_version": "1.5.0",
            "_model_name": "FloatProgressModel",
            "_view_count": null,
            "_view_module": "@jupyter-widgets/controls",
            "_view_module_version": "1.5.0",
            "_view_name": "ProgressView",
            "bar_style": "success",
            "description": "",
            "description_tooltip": null,
            "layout": "IPY_MODEL_9a18ec37857b424abd5b619c78c1ea8d",
            "max": 3,
            "min": 0,
            "orientation": "horizontal",
            "style": "IPY_MODEL_a99234ce17b24c7fb41d7398602ecc9a",
            "value": 3
          }
        },
        "cf16b7b81bb74e96b34110a728152e4d": {
          "model_module": "@jupyter-widgets/controls",
          "model_module_version": "1.5.0",
          "model_name": "HBoxModel",
          "state": {
            "_dom_classes": [],
            "_model_module": "@jupyter-widgets/controls",
            "_model_module_version": "1.5.0",
            "_model_name": "HBoxModel",
            "_view_count": null,
            "_view_module": "@jupyter-widgets/controls",
            "_view_module_version": "1.5.0",
            "_view_name": "HBoxView",
            "box_style": "",
            "children": [
              "IPY_MODEL_4ce7e8cb5f77487890d63985758b13e5",
              "IPY_MODEL_956b5cff0b7142d9bc05e7c8244f1a44",
              "IPY_MODEL_9024e5c6a92f43fb85baeec7ab56b66c"
            ],
            "layout": "IPY_MODEL_4668892bcde84ea99339e40cb953ef9f"
          }
        },
        "cfe311f20440402189e5fc0e3816abef": {
          "model_module": "@jupyter-widgets/controls",
          "model_module_version": "1.5.0",
          "model_name": "DescriptionStyleModel",
          "state": {
            "_model_module": "@jupyter-widgets/controls",
            "_model_module_version": "1.5.0",
            "_model_name": "DescriptionStyleModel",
            "_view_count": null,
            "_view_module": "@jupyter-widgets/base",
            "_view_module_version": "1.2.0",
            "_view_name": "StyleView",
            "description_width": ""
          }
        },
        "d47b39b1b7bb41bfa94b9d41c7351397": {
          "model_module": "@jupyter-widgets/controls",
          "model_module_version": "1.5.0",
          "model_name": "ProgressStyleModel",
          "state": {
            "_model_module": "@jupyter-widgets/controls",
            "_model_module_version": "1.5.0",
            "_model_name": "ProgressStyleModel",
            "_view_count": null,
            "_view_module": "@jupyter-widgets/base",
            "_view_module_version": "1.2.0",
            "_view_name": "StyleView",
            "bar_color": null,
            "description_width": ""
          }
        },
        "e059020ec41c4bedb61bb0b36be6e995": {
          "model_module": "@jupyter-widgets/base",
          "model_module_version": "1.2.0",
          "model_name": "LayoutModel",
          "state": {
            "_model_module": "@jupyter-widgets/base",
            "_model_module_version": "1.2.0",
            "_model_name": "LayoutModel",
            "_view_count": null,
            "_view_module": "@jupyter-widgets/base",
            "_view_module_version": "1.2.0",
            "_view_name": "LayoutView",
            "align_content": null,
            "align_items": null,
            "align_self": null,
            "border": null,
            "bottom": null,
            "display": null,
            "flex": null,
            "flex_flow": null,
            "grid_area": null,
            "grid_auto_columns": null,
            "grid_auto_flow": null,
            "grid_auto_rows": null,
            "grid_column": null,
            "grid_gap": null,
            "grid_row": null,
            "grid_template_areas": null,
            "grid_template_columns": null,
            "grid_template_rows": null,
            "height": null,
            "justify_content": null,
            "justify_items": null,
            "left": null,
            "margin": null,
            "max_height": null,
            "max_width": null,
            "min_height": null,
            "min_width": null,
            "object_fit": null,
            "object_position": null,
            "order": null,
            "overflow": null,
            "overflow_x": null,
            "overflow_y": null,
            "padding": null,
            "right": null,
            "top": null,
            "visibility": null,
            "width": null
          }
        },
        "e399559f3b584d69a3fba198af876a2d": {
          "model_module": "@jupyter-widgets/controls",
          "model_module_version": "1.5.0",
          "model_name": "HTMLModel",
          "state": {
            "_dom_classes": [],
            "_model_module": "@jupyter-widgets/controls",
            "_model_module_version": "1.5.0",
            "_model_name": "HTMLModel",
            "_view_count": null,
            "_view_module": "@jupyter-widgets/controls",
            "_view_module_version": "1.5.0",
            "_view_name": "HTMLView",
            "description": "",
            "description_tooltip": null,
            "layout": "IPY_MODEL_8e6c65b2c5824c5c8104f443bedbdaeb",
            "placeholder": "​",
            "style": "IPY_MODEL_9898b1f6482342e2b3f2542738e44411",
            "value": " 2169/2169 [00:00&lt;00:00, 6889.77it/s]"
          }
        },
        "e5aa0a2798ea4657a5b76e388f80dad5": {
          "model_module": "@jupyter-widgets/controls",
          "model_module_version": "1.5.0",
          "model_name": "FloatProgressModel",
          "state": {
            "_dom_classes": [],
            "_model_module": "@jupyter-widgets/controls",
            "_model_module_version": "1.5.0",
            "_model_name": "FloatProgressModel",
            "_view_count": null,
            "_view_module": "@jupyter-widgets/controls",
            "_view_module_version": "1.5.0",
            "_view_name": "ProgressView",
            "bar_style": "success",
            "description": "",
            "description_tooltip": null,
            "layout": "IPY_MODEL_39e2598173e242ea830ab74b2e2215a0",
            "max": 10000,
            "min": 0,
            "orientation": "horizontal",
            "style": "IPY_MODEL_519c21791d0648bdb9f96cc8957df126",
            "value": 10000
          }
        },
        "ee15f8861bfa495fb0f6e12706ec1ff8": {
          "model_module": "@jupyter-widgets/controls",
          "model_module_version": "1.5.0",
          "model_name": "HTMLModel",
          "state": {
            "_dom_classes": [],
            "_model_module": "@jupyter-widgets/controls",
            "_model_module_version": "1.5.0",
            "_model_name": "HTMLModel",
            "_view_count": null,
            "_view_module": "@jupyter-widgets/controls",
            "_view_module_version": "1.5.0",
            "_view_name": "HTMLView",
            "description": "",
            "description_tooltip": null,
            "layout": "IPY_MODEL_1bfe5bf71f6f4598aa7821e3441bf090",
            "placeholder": "​",
            "style": "IPY_MODEL_1104fde8539d4fba96e98d5cb3744857",
            "value": "100%"
          }
        }
      }
    }
  },
  "nbformat": 4,
  "nbformat_minor": 0
}
